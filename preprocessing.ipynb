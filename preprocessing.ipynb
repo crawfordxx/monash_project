{
 "cells": [
  {
   "cell_type": "markdown",
   "metadata": {},
   "source": [
    "# FIT5196 Assessment 1\n",
    "#### Group number: 023\n",
    "#### Student Name :JIANHAN MA & HSIAO YI\n",
    "#### Student ID: 29332885 & 29360595\n",
    "\n",
    "Date: 19/08/2019\n",
    "\n",
    "Environment: Python 3.6.0 and Anaconda 4.3.0 (64-bit)\n",
    "\n",
    "Libraries used:\n",
    "\n",
    "* pandas 0.19.2 (for data frame, included in Anaconda Python 3.6) \n",
    "* re 2.2.1 (for regular expression, included in Anaconda Python 3.6) \n",
    "\n",
    "## 1. Introduction\n",
    "This assessment touches the very first step of analyzing textual data, i.e., extracting data from\n",
    "semi-structured text files. There is a data-set that contains information about grants given for IP patent claims in `<group_number>.txt`. Each data-set contains information about several patent grants, e.g., patent title, patent ID, citation network, abstract etc. The task is to extract the data and transform the data into the CSV and JSON format with the following elements:\n",
    "1. grant_id: a unique ID for a patent grant consisting of alphanumeric characters.\n",
    "2. patent_kind: a category to which the patent grant belongs.\n",
    "3. patent_title: a title given by the inventor to the patent claim.\n",
    "4. number_of_claims: an integer denoting the number of claims for a given grant.\n",
    "5. citations_examiner_count: an integer denoting the number of citations made by the examiner for a given patent grant (0 if None)\n",
    "6. citations_applicant_count: an integer denoting the number of citations made by the applicant for a given patent grant (0 if None)\n",
    "7. inventors: a list of the patent inventors’ names ([NA] if the value is Null).\n",
    "8. claims_text: a list of claim texts for the different patent claims ([NA] if the value is Null).\n",
    "9. abstract: the patent abstract text (‘NA’ if the value is Null)"
   ]
  },
  {
   "cell_type": "markdown",
   "metadata": {},
   "source": [
    "## 2.Import libraries"
   ]
  },
  {
   "cell_type": "code",
   "execution_count": 1,
   "metadata": {},
   "outputs": [],
   "source": [
    "import pandas as pd\n",
    "from pandas import Series \n",
    "from pandas import DataFrame \n",
    "import re"
   ]
  },
  {
   "cell_type": "markdown",
   "metadata": {},
   "source": [
    "## 3. Loading and checking data from dataset"
   ]
  },
  {
   "cell_type": "markdown",
   "metadata": {},
   "source": [
    "Firstly, the file `Group023.txt` will be loaded from local machine so the first 10 lines can be inspected."
   ]
  },
  {
   "cell_type": "code",
   "execution_count": 2,
   "metadata": {},
   "outputs": [
    {
     "name": "stdout",
     "output_type": "stream",
     "text": [
      "<?xml version=\"1.0\" encoding=\"UTF-8\"?>\n",
      "<us-patent-grant lang=\"EN\" dtd-version=\"v4.5 2014-04-03\" file=\"US10360376-20190723.XML\" status=\"PRODUCTION\" id=\"us-patent-grant\" country=\"US\" date-produced=\"20190709\" date-publ=\"20190723\">\n",
      "<us-bibliographic-data-grant>\n",
      "<publication-reference>\n",
      "<document-id>\n",
      "<country>US</country>\n",
      "<doc-number>10360376</doc-number>\n",
      "<kind>B2</kind>\n",
      "<date>20190723</date>\n",
      "</document-id>\n"
     ]
    }
   ],
   "source": [
    "##read the first 10 lines of the file.\n",
    "with open('Group023.txt','r') as inputfile:\n",
    "    print('\\n'.join([inputfile.readline().strip() for i in range(0, 10)]))"
   ]
  },
  {
   "cell_type": "markdown",
   "metadata": {},
   "source": [
    "we can see each patent start with `<?xml...>`, so based on this information, the whole txt file can be splited into a list which contains a lot of individual patents.\n",
    "\n",
    "the pattern aims to define a expression to match the start part of each patent. This string means starting with `?xml` and end with `?>`. The non-greedy pattern `*?` is necessary so the whole file is not matched. Then the `re.split` function is to split the txt which is based on the pattern. The next step is to replace the line break by using for loop to remove all the `\\n` in the whole list. The reason why there is a `pop` function is that the fist element is blank quotes."
   ]
  },
  {
   "cell_type": "code",
   "execution_count": 3,
   "metadata": {},
   "outputs": [
    {
     "name": "stdout",
     "output_type": "stream",
     "text": [
      "150\n"
     ]
    }
   ],
   "source": [
    "## read the whole inputfile \n",
    "with open('Group023.txt','r') as inputfile:\n",
    "    text = inputfile.read()\n",
    "\n",
    "##define a regular expression and split file\n",
    "pattern = '<\\?xml.*?>'\n",
    "result = re.split(pattern, text)\n",
    "\n",
    "##preprocessing the content(such as remove line breaks, pop first blank element)\n",
    "for i in range(len(result)):\n",
    "    result[i] = result[i].replace('\\n','')\n",
    "result.pop(0)\n",
    "print(len(result))"
   ]
  },
  {
   "cell_type": "markdown",
   "metadata": {},
   "source": [
    "the length of the `result` list is 150. All patents haven been successfully extracted from the main file. Then we check the last patent in the list."
   ]
  },
  {
   "cell_type": "code",
   "execution_count": 4,
   "metadata": {},
   "outputs": [
    {
     "data": {
      "text/plain": [
       "'<us-patent-grant lang=\"EN\" dtd-version=\"v4.5 2014-04-03\" file=\"US10360087-20190723.XML\" status=\"PRODUCTION\" id=\"us-patent-grant\" country=\"US\" date-produced=\"20190709\" date-publ=\"20190723\"><us-bibliographic-data-grant><publication-reference><document-id><country>US</country><doc-number>10360087</doc-number><kind>B2</kind><date>20190723</date></document-id></publication-reference><application-reference appl-type=\"utility\"><document-id><country>US</country><doc-number>15795351</doc-number><date>20171027</date></document-id></application-reference><us-application-series-code>15</us-application-series-code><us-term-of-grant><us-term-extension>9</us-term-extension></us-term-of-grant><classifications-ipcr><classification-ipcr><ipc-version-indicator><date>20060101</date></ipc-version-indicator><classification-level>A</classification-level><section>G</section><class>06</class><subclass>F</subclass><main-group>9</main-group><subgroup>54</subgroup><symbol-position>F</symbol-position><classification-value>I</classification-value><action-date><date>20190723</date></action-date><generating-office><country>US</country></generating-office><classification-status>B</classification-status><classification-data-source>H</classification-data-source></classification-ipcr><classification-ipcr><ipc-version-indicator><date>20060101</date></ipc-version-indicator><classification-level>A</classification-level><section>G</section><class>06</class><subclass>F</subclass><main-group>11</main-group><subgroup>36</subgroup><symbol-position>L</symbol-position><classification-value>I</classification-value><action-date><date>20190723</date></action-date><generating-office><country>US</country></generating-office><classification-status>B</classification-status><classification-data-source>H</classification-data-source></classification-ipcr><classification-ipcr><ipc-version-indicator><date>20060101</date></ipc-version-indicator><classification-level>A</classification-level><section>H</section><class>04</class><subclass>L</subclass><main-group>29</main-group><subgroup>08</subgroup><symbol-position>L</symbol-position><classification-value>I</classification-value><action-date><date>20190723</date></action-date><generating-office><country>US</country></generating-office><classification-status>B</classification-status><classification-data-source>H</classification-data-source></classification-ipcr></classifications-ipcr><classifications-cpc><main-cpc><classification-cpc><cpc-version-indicator><date>20130101</date></cpc-version-indicator><section>G</section><class>06</class><subclass>F</subclass><main-group>9</main-group><subgroup>547</subgroup><symbol-position>F</symbol-position><classification-value>I</classification-value><action-date><date>20190723</date></action-date><generating-office><country>US</country></generating-office><classification-status>B</classification-status><classification-data-source>H</classification-data-source><scheme-origination-code>C</scheme-origination-code></classification-cpc></main-cpc><further-cpc><classification-cpc><cpc-version-indicator><date>20130101</date></cpc-version-indicator><section>G</section><class>06</class><subclass>F</subclass><main-group>9</main-group><subgroup>546</subgroup><symbol-position>L</symbol-position><classification-value>I</classification-value><action-date><date>20190723</date></action-date><generating-office><country>US</country></generating-office><classification-status>B</classification-status><classification-data-source>H</classification-data-source><scheme-origination-code>C</scheme-origination-code></classification-cpc><classification-cpc><cpc-version-indicator><date>20130101</date></cpc-version-indicator><section>G</section><class>06</class><subclass>F</subclass><main-group>11</main-group><subgroup>364</subgroup><symbol-position>L</symbol-position><classification-value>I</classification-value><action-date><date>20190723</date></action-date><generating-office><country>US</country></generating-office><classification-status>B</classification-status><classification-data-source>H</classification-data-source><scheme-origination-code>C</scheme-origination-code></classification-cpc><classification-cpc><cpc-version-indicator><date>20130101</date></cpc-version-indicator><section>G</section><class>06</class><subclass>F</subclass><main-group>11</main-group><subgroup>3612</subgroup><symbol-position>L</symbol-position><classification-value>I</classification-value><action-date><date>20190723</date></action-date><generating-office><country>US</country></generating-office><classification-status>B</classification-status><classification-data-source>H</classification-data-source><scheme-origination-code>C</scheme-origination-code></classification-cpc><classification-cpc><cpc-version-indicator><date>20130101</date></cpc-version-indicator><section>H</section><class>04</class><subclass>L</subclass><main-group>67</main-group><subgroup>02</subgroup><symbol-position>L</symbol-position><classification-value>I</classification-value><action-date><date>20190723</date></action-date><generating-office><country>US</country></generating-office><classification-status>B</classification-status><classification-data-source>H</classification-data-source><scheme-origination-code>C</scheme-origination-code></classification-cpc><classification-cpc><cpc-version-indicator><date>20130101</date></cpc-version-indicator><section>H</section><class>04</class><subclass>L</subclass><main-group>67</main-group><subgroup>10</subgroup><symbol-position>L</symbol-position><classification-value>A</classification-value><action-date><date>20190723</date></action-date><generating-office><country>US</country></generating-office><classification-status>B</classification-status><classification-data-source>H</classification-data-source><scheme-origination-code>C</scheme-origination-code></classification-cpc></further-cpc></classifications-cpc><invention-title id=\"d2e53\">Web API recommendations based on usage in cloud-provided runtimes</invention-title><us-references-cited><us-citation><patcit num=\"00001\"><document-id><country>US</country><doc-number>7461369</doc-number><kind>B2</kind><name>Zhao</name><date>20081200</date></document-id></patcit><category>cited by examiner</category><classification-cpc-text>G06F 11/3419</classification-cpc-text><classification-national><country>US</country><main-classification>714E11195</main-classification></classification-national></us-citation><us-citation><patcit num=\"00002\"><document-id><country>US</country><doc-number>7707173</doc-number><kind>B2</kind><name>Nanavati</name><date>20100400</date></document-id></patcit><category>cited by examiner</category><classification-cpc-text>G06F 17/3089</classification-cpc-text><classification-national><country>US</country><main-classification>705  727</main-classification></classification-national></us-citation><us-citation><patcit num=\"00003\"><document-id><country>US</country><doc-number>7945485</doc-number><kind>B2</kind><name>Kane, Jr.</name><date>20110500</date></document-id></patcit><category>cited by examiner</category><classification-cpc-text>G06F 17/30867</classification-cpc-text><classification-national><country>US</country><main-classification>705 267</main-classification></classification-national></us-citation><us-citation><patcit num=\"00004\"><document-id><country>US</country><doc-number>8347272</doc-number><kind>B2</kind><name>Sugawara</name><date>20130100</date></document-id></patcit><category>cited by examiner</category><classification-cpc-text>G06F 8/75</classification-cpc-text><classification-national><country>US</country><main-classification>712203</main-classification></classification-national></us-citation><us-citation><patcit num=\"00005\"><document-id><country>US</country><doc-number>8788577</doc-number><kind>B2</kind><name>Podjarny</name><date>20140700</date></document-id></patcit><category>cited by examiner</category><classification-cpc-text>G06F 17/30905</classification-cpc-text><classification-national><country>US</country><main-classification>709203</main-classification></classification-national></us-citation><us-citation><patcit num=\"00006\"><document-id><country>US</country><doc-number>9715545</doc-number><kind>B2</kind><name>Laredo</name><date>20170700</date></document-id></patcit><category>cited by examiner</category><classification-cpc-text>G06F 17/30864</classification-cpc-text></us-citation><us-citation><patcit num=\"00007\"><document-id><country>US</country><doc-number>2007/0150348</doc-number><kind>A1</kind><name>Hussain</name><date>20070600</date></document-id></patcit><category>cited by examiner</category><classification-cpc-text>G06Q 30/02</classification-cpc-text><classification-national><country>US</country><main-classification>705 1454</main-classification></classification-national></us-citation><us-citation><patcit num=\"00008\"><document-id><country>US</country><doc-number>2007/0244823</doc-number><kind>A1</kind><name>Thomas Motley</name><date>20071000</date></document-id></patcit><category>cited by examiner</category><classification-cpc-text>G06F 21/123</classification-cpc-text><classification-national><country>US</country><main-classification>705 59</main-classification></classification-national></us-citation><us-citation><patcit num=\"00009\"><document-id><country>US</country><doc-number>2007/0288897</doc-number><kind>A1</kind><name>Branda</name><date>20071200</date></document-id></patcit><category>cited by examiner</category><classification-cpc-text>G06F 8/70</classification-cpc-text><classification-national><country>US</country><main-classification>717124</main-classification></classification-national></us-citation><us-citation><patcit num=\"00010\"><document-id><country>US</country><doc-number>2008/0072210</doc-number><kind>A1</kind><name>Rush</name><date>20080300</date></document-id></patcit><category>cited by examiner</category><classification-cpc-text>G06F 8/33</classification-cpc-text><classification-national><country>US</country><main-classification>717121</main-classification></classification-national></us-citation><us-citation><patcit num=\"00011\"><document-id><country>US</country><doc-number>2008/0222238</doc-number><kind>A1</kind><name>Ivanov</name><date>20080900</date></document-id></patcit><category>cited by examiner</category><classification-cpc-text>H04L 67/16</classification-cpc-text><classification-national><country>US</country><main-classification>709202</main-classification></classification-national></us-citation><us-citation><patcit num=\"00012\"><document-id><country>US</country><doc-number>2009/0204594</doc-number><kind>A1</kind><name>Akkiraju</name><date>20090800</date></document-id></patcit><category>cited by examiner</category><classification-cpc-text>G06F 8/34</classification-cpc-text></us-citation><us-citation><patcit num=\"00013\"><document-id><country>US</country><doc-number>2010/0269044</doc-number><kind>A1</kind><name>Ivanyi</name><date>20101000</date></document-id></patcit><category>cited by examiner</category><classification-cpc-text>G06Q 30/02</classification-cpc-text><classification-national><country>US</country><main-classification>715736</main-classification></classification-national></us-citation><us-citation><patcit num=\"00014\"><document-id><country>US</country><doc-number>2012/0030039</doc-number><kind>A1</kind><name>Fernandez Gutierrez</name><date>20120200</date></document-id></patcit><category>cited by examiner</category><classification-cpc-text>G06Q 30/0277</classification-cpc-text><classification-national><country>US</country><main-classification>705 1473</main-classification></classification-national></us-citation><us-citation><patcit num=\"00015\"><document-id><country>US</country><doc-number>2014/0051417</doc-number><kind>A1</kind><name>Wuerch</name><date>20140200</date></document-id></patcit><category>cited by examiner</category><classification-cpc-text>H04W 8/205</classification-cpc-text><classification-national><country>US</country><main-classification>455418</main-classification></classification-national></us-citation><us-citation><patcit num=\"00016\"><document-id><country>US</country><doc-number>2015/0121401</doc-number><kind>A1</kind><name>Laredo</name><date>20150400</date></document-id></patcit><category>cited by examiner</category><classification-cpc-text>G06F 9/54</classification-cpc-text><classification-national><country>US</country><main-classification>719328</main-classification></classification-national></us-citation><us-citation><patcit num=\"00017\"><document-id><country>US</country><doc-number>2015/0363493</doc-number><kind>A1</kind><name>Laredo</name><date>20151200</date></document-id></patcit><category>cited by examiner</category><classification-cpc-text>G06F 17/30864</classification-cpc-text><classification-national><country>US</country><main-classification>707770</main-classification></classification-national></us-citation><us-citation><patcit num=\"00018\"><document-id><country>US</country><doc-number>2016/0011951</doc-number><kind>A1</kind><name>Beskrovny</name><date>20160100</date></document-id></patcit><category>cited by examiner</category><classification-cpc-text>G06F 11/3684</classification-cpc-text><classification-national><country>US</country><main-classification>714 37</main-classification></classification-national></us-citation><us-citation><patcit num=\"00019\"><document-id><country>US</country><doc-number>2016/0012738</doc-number><kind>A1</kind><name>Shafigh</name><date>20160100</date></document-id></patcit><category>cited by examiner</category><classification-cpc-text>G09B 5/06</classification-cpc-text><classification-national><country>US</country><main-classification>434309</main-classification></classification-national></us-citation><us-citation><patcit num=\"00020\"><document-id><country>US</country><doc-number>2016/0057107</doc-number><kind>A1</kind><name>Call</name><date>20160200</date></document-id></patcit><category>cited by examiner</category><classification-cpc-text>H04L 63/02</classification-cpc-text><classification-national><country>US</country><main-classification>726 11</main-classification></classification-national></us-citation><us-citation><patcit num=\"00021\"><document-id><country>US</country><doc-number>2016/0104067</doc-number><kind>A1</kind><name>Xu</name><date>20160400</date></document-id></patcit><category>cited by examiner</category><classification-cpc-text>G06F 17/30864</classification-cpc-text><classification-national><country>US</country><main-classification>706 46</main-classification></classification-national></us-citation><us-citation><patcit num=\"00022\"><document-id><country>US</country><doc-number>2016/0124742</doc-number><kind>A1</kind><name>Rangasamy</name><date>20160500</date></document-id></patcit><category>cited by examiner</category><classification-cpc-text>H04L 47/70</classification-cpc-text><classification-national><country>US</country><main-classification>717103</main-classification></classification-national></us-citation><us-citation><patcit num=\"00023\"><document-id><country>US</country><doc-number>2016/0125042</doc-number><kind>A1</kind><name>Laredo</name><date>20160500</date></document-id></patcit><category>cited by examiner</category><classification-cpc-text>G06F 8/33</classification-cpc-text><classification-national><country>US</country><main-classification>707723</main-classification></classification-national></us-citation><us-citation><patcit num=\"00024\"><document-id><country>US</country><doc-number>2016/0239546</doc-number><kind>A1</kind><name>Cuomo</name><date>20160800</date></document-id></patcit><category>cited by examiner</category><classification-cpc-text>G06F 8/10</classification-cpc-text></us-citation><us-citation><patcit num=\"00025\"><document-id><country>US</country><doc-number>2016/0277532</doc-number><kind>A1</kind><name>Lee</name><date>20160900</date></document-id></patcit><category>cited by examiner</category><classification-cpc-text>H04L 67/322</classification-cpc-text></us-citation><us-citation><patcit num=\"00026\"><document-id><country>US</country><doc-number>2016/0314301</doc-number><kind>A1</kind><name>Johns</name><date>20161000</date></document-id></patcit><category>cited by examiner</category><classification-cpc-text>G06F 21/577</classification-cpc-text></us-citation><us-citation><patcit num=\"00027\"><document-id><country>US</country><doc-number>2016/0330266</doc-number><kind>A1</kind><name>Bakhmutov</name><date>20161100</date></document-id></patcit><category>cited by examiner</category><classification-cpc-text>H04L 67/025</classification-cpc-text></us-citation><us-citation><patcit num=\"00028\"><document-id><country>US</country><doc-number>2016/0335168</doc-number><kind>A1</kind><name>Freiberg</name><date>20161100</date></document-id></patcit><category>cited by examiner</category><classification-cpc-text>G06F 11/3604</classification-cpc-text></us-citation><us-citation><patcit num=\"00029\"><document-id><country>US</country><doc-number>2017/0171049</doc-number><kind>A1</kind><name>Kriegesmann</name><date>20170600</date></document-id></patcit><category>cited by examiner</category><classification-cpc-text>H04L 47/70</classification-cpc-text></us-citation><us-citation><nplcit num=\"00030\"><othercit>Wikipedia, &#x201c;HTTP 404,&#x201d; last retrieved from https://en.wikipedia.org/wiki/HTTP_404 on Jul. 22, 2018. (Year: 2018).</othercit></nplcit><category>cited by examiner</category></us-citation><us-citation><nplcit num=\"00031\"><othercit>T. Mishra and G. Raj, &#x201c;QoS implementation in Web Services selection and ranking using data analysis,&#x201d; 2017 7th International Conference on Cloud Computing, Data Science &#x26; Engineering&#x2014;Confluence, Noida, 2017, pp. 537-542. (Year: 2017).</othercit></nplcit><category>cited by examiner</category></us-citation><us-citation><nplcit num=\"00032\"><othercit>N. Thio and S. Karunasekera, &#x201c;Automatic measurement of a QoS metric for Web service recommendation,&#x201d; 2005 Australian Software Engineering Conference, Brisbane, Queensland, Australia, 2005, pp. 202-211. (Year: 2005).</othercit></nplcit><category>cited by examiner</category></us-citation><us-citation><nplcit num=\"00033\"><othercit>E. Wittern et al., &#x201c;API Harmony: Graph-based search and selection of APIs in the cloud,&#x201d; in IBM Journal of Research and Development, vol. 60, No. 2-3, pp. 12:1-12:11, Mar.-May 2016. (Year: 2016).</othercit></nplcit><category>cited by examiner</category></us-citation><us-citation><nplcit num=\"00034\"><othercit>Theo, Niko et al., &#x201c;Automatic Measurement of a QoS Metric for Web Service Recommendation&#x201d;, Proceedings of the 2005 Australian Software Engineering Conference (ASWEC\\'05)&#x2014;Mar. 29, 2005-Apr. 1, 2005.</othercit></nplcit><category>cited by applicant</category></us-citation><us-citation><nplcit num=\"00035\"><othercit>Wittern, Erik et al., &#x201c;Opportunities in Software Engineering Research for Web API Consumption &#x201d;, 2017 IEEE/ACM 1st International Workshop on API Usage and Evolution (WAPI); May 23, 2017.</othercit></nplcit><category>cited by applicant</category></us-citation><us-citation><nplcit num=\"00036\"><othercit>Wittern, Erik et al., &#x201c;Statically Checking Web API Requests in JavaScript&#x201d;, Proceeding ICSE \\'17 Proceedings of the 39th International Conference on Software Engineering pp. 244-254; Buenos Aires, Argentina&#x2014;May 20-28, 2017.</othercit></nplcit><category>cited by applicant</category></us-citation></us-references-cited><number-of-claims>20</number-of-claims><us-exemplary-claim>1</us-exemplary-claim><us-field-of-classification-search><classification-cpc-text>G06F 9/546</classification-cpc-text><classification-cpc-text>G06F 9/547</classification-cpc-text><classification-cpc-text>G06F 11/3612</classification-cpc-text><classification-cpc-text>G06F 11/364</classification-cpc-text><classification-cpc-text>H04L 67/02</classification-cpc-text><classification-cpc-text>H04L 67/10</classification-cpc-text></us-field-of-classification-search><figures><number-of-drawing-sheets>8</number-of-drawing-sheets><number-of-figures>8</number-of-figures></figures><us-related-documents><related-publication><document-id><country>US</country><doc-number>20190129773</doc-number><kind>A1</kind><date>20190502</date></document-id></related-publication></us-related-documents><us-parties><us-applicants><us-applicant sequence=\"001\" app-type=\"applicant\" designation=\"us-only\" applicant-authority-category=\"assignee\"><addressbook><orgname>INTERNATIONAL BUSINESS MACHINES CORPORATION</orgname><address><city>Armonk</city><state>NY</state><country>US</country></address></addressbook><residence><country>US</country></residence></us-applicant></us-applicants><inventors><inventor sequence=\"001\" designation=\"us-only\"><addressbook><last-name>Suter</last-name><first-name>Philippe</first-name><address><city>New York</city><state>NY</state><country>US</country></address></addressbook></inventor><inventor sequence=\"002\" designation=\"us-only\"><addressbook><last-name>Baset</last-name><first-name>Salman A.</first-name><address><city>New York</city><state>NY</state><country>US</country></address></addressbook></inventor><inventor sequence=\"003\" designation=\"us-only\"><addressbook><last-name>Wittern</last-name><first-name>John E.</first-name><address><city>New York</city><state>NY</state><country>US</country></address></addressbook></inventor></inventors><agents><agent sequence=\"01\" rep-type=\"attorney\"><addressbook><orgname>F. Chau &#x26; Associates, LLC</orgname><address><country>unknown</country></address></addressbook></agent></agents></us-parties><assignees><assignee><addressbook><orgname>INTERNATIONAL BUSINESS MACHINES CORPORATION</orgname><role>02</role><address><city>Armonk</city><state>NY</state><country>US</country></address></addressbook></assignee></assignees><examiners><primary-examiner><last-name>Lyons</last-name><first-name>Andrew M.</first-name><department>2191</department></primary-examiner></examiners></us-bibliographic-data-grant><abstract id=\"abstract\"><p id=\"p-0001\" num=\"0000\">A method for recommending a web application programming interface (API) includes: a cloud computing service retrieving test source code from a remote computer of the developer; the cloud computing service determining whether a call to a first web API among a plurality of web APIs is present in the test source code; and when it is determined that the call is present, the cloud computing service reading at least one log file to extract information about at least one application that has used the first web API; the cloud computing service determining a first quality of the first web API from the log file; and the cloud computing service sending a message to the remote computer recommending a second web API among the web APIs having a second quality higher than the first quality.</p></abstract><drawings id=\"DRAWINGS\"><figure id=\"Fig-EMI-D00000\" num=\"00000\"><img id=\"EMI-D00000\" he=\"107.19mm\" wi=\"228.60mm\" file=\"US10360087-20190723-D00000.TIF\" alt=\"embedded image\" img-content=\"drawing\" img-format=\"tif\"/></figure><figure id=\"Fig-EMI-D00001\" num=\"00001\"><img id=\"EMI-D00001\" he=\"168.99mm\" wi=\"170.94mm\" file=\"US10360087-20190723-D00001.TIF\" alt=\"embedded image\" img-content=\"drawing\" img-format=\"tif\"/></figure><figure id=\"Fig-EMI-D00002\" num=\"00002\"><img id=\"EMI-D00002\" he=\"253.92mm\" wi=\"200.41mm\" orientation=\"landscape\" file=\"US10360087-20190723-D00002.TIF\" alt=\"embedded image\" img-content=\"drawing\" img-format=\"tif\"/></figure><figure id=\"Fig-EMI-D00003\" num=\"00003\"><img id=\"EMI-D00003\" he=\"166.96mm\" wi=\"187.11mm\" file=\"US10360087-20190723-D00003.TIF\" alt=\"embedded image\" img-content=\"drawing\" img-format=\"tif\"/></figure><figure id=\"Fig-EMI-D00004\" num=\"00004\"><img id=\"EMI-D00004\" he=\"228.52mm\" wi=\"131.23mm\" orientation=\"landscape\" file=\"US10360087-20190723-D00004.TIF\" alt=\"embedded image\" img-content=\"drawing\" img-format=\"tif\"/></figure><figure id=\"Fig-EMI-D00005\" num=\"00005\"><img id=\"EMI-D00005\" he=\"247.65mm\" wi=\"170.26mm\" orientation=\"landscape\" file=\"US10360087-20190723-D00005.TIF\" alt=\"embedded image\" img-content=\"drawing\" img-format=\"tif\"/></figure><figure id=\"Fig-EMI-D00006\" num=\"00006\"><img id=\"EMI-D00006\" he=\"237.74mm\" wi=\"142.83mm\" file=\"US10360087-20190723-D00006.TIF\" alt=\"embedded image\" img-content=\"drawing\" img-format=\"tif\"/></figure><figure id=\"Fig-EMI-D00007\" num=\"00007\"><img id=\"EMI-D00007\" he=\"251.29mm\" wi=\"120.99mm\" orientation=\"landscape\" file=\"US10360087-20190723-D00007.TIF\" alt=\"embedded image\" img-content=\"drawing\" img-format=\"tif\"/></figure><figure id=\"Fig-EMI-D00008\" num=\"00008\"><img id=\"EMI-D00008\" he=\"247.31mm\" wi=\"183.47mm\" orientation=\"landscape\" file=\"US10360087-20190723-D00008.TIF\" alt=\"embedded image\" img-content=\"drawing\" img-format=\"tif\"/></figure></drawings><description id=\"description\"><?BRFSUM description=\"Brief Summary\" end=\"lead\"?><heading id=\"h-0001\" level=\"1\">BACKGROUND</heading><heading id=\"h-0002\" level=\"1\">1. Technical Field</heading><p id=\"p-0002\" num=\"0001\">The present disclosure relates generally to a recommendation engine, and more particularly to a recommendation engine that recommends a WEB API.</p><heading id=\"h-0003\" level=\"1\">2. Discussion of Related Art</heading><p id=\"p-0003\" num=\"0002\">Applications increasingly consume services via Application Programming Interfaces (APIs) in cloud-provided runtimes. A cloud-provided runtime is a category of cloud computing service that provides a platform allowing customers to develop, run, and manage applications without the complexity of building and maintaining the infrastructure typically associated with developing and launching an application.</p><p id=\"p-0004\" num=\"0003\">A server-side web API is a programmatic interface consisting of one or more publicly exposed endpoints to a defined request-response message system, typically expressed in JavaScript Object Notation (JSON) or Extensible Markup Language (XML) and exposed via the web by means of a Hypertext Transfer Protocol (HTTP-based) web server. Endpoints specify where resources lie that than be accessed by third party software. Usually the access is via a Universal Resource Locator (URL) to which HTTP requests are posed, and from which a corresponding response is expected.</p><p id=\"p-0005\" num=\"0004\">However, since there are thousands of different web APIs available and different versions of each, it is difficult for a device running an automated test process or a user such as a developer to pick the right web API.</p><heading id=\"h-0004\" level=\"1\">BRIEF SUMMARY</heading><p id=\"p-0006\" num=\"0005\">A computer-implemented method according to an exemplary embodiment of the invention is provided for recommending a web application programming interface (API). The method includes a cloud computing service retrieving test source code from a remote computer; the cloud computing service determining whether a call to a first web API among a plurality of web APIs is present in the test source code; and when it is determined that the call is present, the cloud computing service reading at least one log file to extract information about at least application that have used the first web API being used; the cloud computing service determining a first quality of the first web API from the extracted information; and the cloud computing service sending a message to the remote computer recommending a second web API among the web APIs having a second quality higher than the first quality.</p><p id=\"p-0007\" num=\"0006\">A computer system according to an exemplary embodiment of the invention is provided for recommending a web application programming interface (API). The computer system includes a memory storing a cloud computing service; and a processor configured to execute the cloud computing service. The cloud computing service is configured to retrieve source code from a remote computer and determine whether a call to a first web API among a plurality of web APIs is present in the test source code. The cloud computing service reads at least one log file to extract information about at least one application that has used the first web API, determines a first quality of the first web API from the extracted information, and sends a message to the remote computer recommending a second web API among the web APIs having a second quality higher than the first quality, when it determines that the call is present.</p><p id=\"p-0008\" num=\"0007\">A computer program product according to an exemplary embodiment of the invention is provided for recommending a web application programming interface (API). The computer program product includes a computer readable storage medium having program instructions embodied therewith. The program instructions are executable by a processor to perform a method including: retrieving test source code from a remote computer; determining whether a call to a first web API among a plurality of web APIs is present in the test source code; and when it is determined that the call is present, reading at least one log file to extract information about at least one application that has used the first web API. The method further determines a first quality of the first web API from the extracted information; and sends a message to the remote computer recommending a second web API among the web APIs having a second quality higher than the first quality, when it is determined that the call is present.</p><?BRFSUM description=\"Brief Summary\" end=\"tail\"?><?brief-description-of-drawings description=\"Brief Description of Drawings\" end=\"lead\"?><description-of-drawings><heading id=\"h-0005\" level=\"1\">BRIEF DESCRIPTION OF THE SEVERAL VIEWS OF THE DRAWINGS</heading><p id=\"p-0009\" num=\"0008\">Exemplary embodiments of the invention can be understood in more detail from the following descriptions taken in conjunction with the accompanying drawings in which:</p><p id=\"p-0010\" num=\"0009\"><figref idref=\"DRAWINGS\">FIG. 1</figref> illustrates a cloud computing environment according to an embodiment of the present invention;</p><p id=\"p-0011\" num=\"0010\"><figref idref=\"DRAWINGS\">FIG. 2</figref> depicts abstraction model layers according to an embodiment of the present invention, which may be used to implement a web API recommendation engine;</p><p id=\"p-0012\" num=\"0011\"><figref idref=\"DRAWINGS\">FIG. 3</figref> shows an exemplary computer system on which the web API recommendation engine may be executed;</p><p id=\"p-0013\" num=\"0012\"><figref idref=\"DRAWINGS\">FIG. 4</figref> shows a method of operating the web API recommendation engine according to an exemplary embodiment of the inventive concept;</p><p id=\"p-0014\" num=\"0013\"><figref idref=\"DRAWINGS\">FIG. 5</figref> shows sample test code that may be operated on by the web API recommendation engine;</p><p id=\"p-0015\" num=\"0014\"><figref idref=\"DRAWINGS\">FIG. 6</figref> shows exemplary output generated by the web API recommendation engine when operated on the sample test code;</p><p id=\"p-0016\" num=\"0015\"><figref idref=\"DRAWINGS\">FIG. 7</figref> shows an exemplary log file that may be analyzed by the web API recommendation engine; and</p><p id=\"p-0017\" num=\"0016\"><figref idref=\"DRAWINGS\">FIG. 8</figref> illustrates an exemplary group of dependent web actions.</p></description-of-drawings><?brief-description-of-drawings description=\"Brief Description of Drawings\" end=\"tail\"?><?DETDESC description=\"Detailed Description\" end=\"lead\"?><heading id=\"h-0006\" level=\"1\">DETAILED DESCRIPTION OF THE EXEMPLARY EMBODIMENTS</heading><p id=\"p-0018\" num=\"0017\">The inventive concept will be described in more detail with reference to the accompanying drawings, where exemplary embodiments of the present disclosure have been illustrated. Throughout the drawings, same or like reference numerals are used to represent the same or like components. However, the present inventive concept can be implemented in various manners, and thus should not be construed to be limited to the embodiments disclosed herein. On the contrary, those embodiments are provided for the thorough and complete understanding of the present disclosure to convey the scope of the present disclosure to those skilled in the art.</p><p id=\"p-0019\" num=\"0018\">It is understood in advance that although this disclosure includes a detailed description on cloud computing, implementation of the teachings recited herein are not limited to a cloud computing environment. Rather, embodiments of the present invention are capable of being implemented in conjunction with any other type of computing environment now known or later developed. Examples are the orchestration of a manufacturing process, a process to retrieve or store goods in a wholesale or retail store, a process to analyze a medical sample or set of samples, a process governing a series of chemical reactions, a process to analyze and file incoming paper documents in a financial institution, a process to manufacture a chemical substance, a process to monitor an automobile engine, a process to monitor a chemical reaction, or a process to monitor a medical device.</p><p id=\"p-0020\" num=\"0019\">Cloud computing is a model of service delivery for enabling convenient, on-demand network access to a shared pool of configurable computing resources (e.g. networks, network bandwidth, servers, processing, memory, storage, applications, virtual machines, and services) that can be rapidly provisioned and released with minimal management effort or interaction with a provider of the service. This cloud model may include at least five characteristics, at least three service models, and at least four deployment models.</p><p id=\"p-0021\" num=\"0020\">Characteristics are as follows:</p><p id=\"p-0022\" num=\"0021\">On-demand self-service: a cloud consumer can unilaterally provision computing capabilities, such as server time and network storage, as needed automatically without requiring human interaction with the service\\'s provider. Broad network access: capabilities are available over a network and accessed through standard mechanisms that promote use by heterogeneous thin or thick client platforms (e.g., mobile phones, laptops, and PDAs).</p><p id=\"p-0023\" num=\"0022\">Resource pooling: the provider\\'s computing resources are pooled to serve multiple consumers using a multi-tenant model, with different physical and virtual resources dynamically assigned and reassigned according to demand. There is a sense of location independence in that the consumer generally has no control or knowledge over the exact location of the provided resources but may be able to specify location at a higher level of abstraction (e.g., country, state, or datacenter).</p><p id=\"p-0024\" num=\"0023\">Rapid elasticity: capabilities can be rapidly and elastically provisioned, in some cases automatically, to quickly scale out and rapidly released to quickly scale in. To the consumer, the capabilities available for provisioning often appear to be unlimited and can be purchased in any quantity at any time.</p><p id=\"p-0025\" num=\"0024\">Measured service: cloud systems automatically control and optimize resource use by leveraging a metering capability at some level of abstraction appropriate to the type of service (e.g., storage, processing, bandwidth, and active user accounts). Resource usage can be monitored, controlled, and reported providing transparency for both the provider and consumer of the utilized service.</p><p id=\"p-0026\" num=\"0025\">Service Models are as follows:</p><p id=\"p-0027\" num=\"0026\">Software as a Service (SaaS): the capability provided to the consumer is to use the provider\\'s applications running on a cloud infrastructure. The applications are accessible from various client devices through a thin client interface such as a web browser (e.g., web-based e-mail). The consumer does not manage or control the underlying cloud infrastructure including network, servers, operating systems, storage, or even individual application capabilities, with the possible exception of limited user-specific application configuration settings.</p><p id=\"p-0028\" num=\"0027\">Platform as a Service (PaaS): the capability provided to the consumer is to deploy onto the cloud infrastructure consumer-created or acquired applications created using programming languages and tools supported by the provider. The consumer does not manage or control the underlying cloud infrastructure including networks, servers, operating systems, or storage, but has control over the deployed applications and possibly application hosting environment configurations.</p><p id=\"p-0029\" num=\"0028\">Infrastructure as a Service (IaaS): the capability provided to the consumer is to provision processing, storage, networks, and other fundamental computing resources where the consumer is able to deploy and run arbitrary software, which can include operating systems and applications. The consumer does not manage or control the underlying cloud infrastructure but has control over operating systems, storage, deployed applications, and possibly limited control of select networking components (e.g., host firewalls).</p><p id=\"p-0030\" num=\"0029\">Deployment Models are as follows:</p><p id=\"p-0031\" num=\"0030\">Private cloud: the cloud infrastructure is operated solely for an organization. It may be managed by the organization or a third party and may exist on-premises or off-premises.</p><p id=\"p-0032\" num=\"0031\">Community cloud: the cloud infrastructure is shared by several organizations and supports a specific community that has shared concerns (e.g., mission, security requirements, policy, and compliance considerations). It may be managed by the organizations or a third party and may exist on-premises or off-premises.</p><p id=\"p-0033\" num=\"0032\">Public cloud: the cloud infrastructure is made available to the general public or a large industry group and is owned by an organization selling cloud services.</p><p id=\"p-0034\" num=\"0033\">Hybrid cloud: the cloud infrastructure is a composition of two or more clouds (private, community, or public) that remain unique entities but are bound together by standardized or proprietary technology that enables data and application portability (e.g., cloud bursting for load-balancing between clouds). A cloud computing environment is service oriented with a focus on statelessness, low coupling, modularity, and semantic interoperability. At the heart of cloud computing is an infrastructure comprising a network of interconnected nodes. Referring now to <figref idref=\"DRAWINGS\">FIG. 1</figref>, illustrative cloud computing environment <b>50</b> is depicted. As shown, cloud computing environment <b>50</b> comprises one or more cloud computing nodes <b>10</b> with which local computing devices used by cloud consumers, such as, for example, personal digital assistant (PDA) or cellular telephone <b>54</b>A, desktop computer <b>54</b>B, laptop computer <b>54</b>C, and/or automobile computer system <b>54</b>N may communicate. Nodes <b>10</b> may communicate with one another. They may be grouped (not shown) physically or virtually, in one or more networks, such as Private, Community, Public, or Hybrid clouds as described hereinabove, or a combination thereof. This allows cloud computing environment <b>50</b> to offer infrastructure, platforms and/or software as services for which a cloud consumer does not need to maintain resources on a local computing device. It is understood that the types of computing devices <b>54</b>A-N shown in <figref idref=\"DRAWINGS\">FIG. 1</figref> are intended to be illustrative only and that computing nodes <b>10</b> and cloud computing environment <b>50</b> can communicate with any type of computerized device over any type of network and/or network addressable connection (e.g., using a web browser).</p><p id=\"p-0035\" num=\"0034\">Referring now to <figref idref=\"DRAWINGS\">FIG. 2</figref>, a set of functional abstraction layers provided by cloud computing environment <b>50</b> (<figref idref=\"DRAWINGS\">FIG. 1</figref>) is shown. It should be understood in advance that the components, layers, and functions shown in <figref idref=\"DRAWINGS\">FIG. 2</figref> are intended to be illustrative only and embodiments of the invention are not limited thereto. As depicted, the following layers and corresponding functions are provided:</p><p id=\"p-0036\" num=\"0035\">Hardware and software layer <b>60</b> includes hardware and software components. Examples of hardware components include: mainframes <b>61</b>; RISC (Reduced Instruction Set Computer) architecture based servers <b>62</b>; servers <b>63</b>; blade servers <b>64</b>; storage devices <b>65</b>; and networks and networking components <b>66</b>. In some embodiments, software components include network application server software <b>67</b> and database software <b>68</b>.</p><p id=\"p-0037\" num=\"0036\">Virtualization layer <b>70</b> provides an abstraction layer from which the following examples of virtual entities may be provided: virtual servers <b>71</b>; virtual storage <b>72</b>; virtual networks <b>73</b>, including virtual private networks; virtual applications and operating systems <b>74</b>; and virtual clients <b>75</b>.</p><p id=\"p-0038\" num=\"0037\">In one example, management layer <b>80</b> may provide the functions described below. Resource provisioning <b>81</b> provides dynamic procurement of computing resources and other resources that are utilized to perform tasks within the cloud computing environment. Metering and Pricing <b>82</b> provide cost tracking as resources are utilized within the cloud computing environment, and billing or invoicing for consumption of these resources. In one example, these resources may comprise application software licenses. Security provides identity verification for cloud consumers and tasks, as well as protection for data and other resources. User portal <b>83</b> provides access to the cloud computing environment for consumers and system administrators. Service level management <b>84</b> provides cloud computing resource allocation and management such that required service levels are met. Service Level Agreement (SLA) planning and fulfillment <b>85</b> provide pre-arrangement for, and procurement of, cloud computing resources for which a future requirement is anticipated in accordance with an SLA.</p><p id=\"p-0039\" num=\"0038\">Workloads layer <b>90</b> provides examples of functionality for which the cloud computing environment may be utilized. Examples of workloads and functions which may be provided from this layer include: mapping and navigation <b>91</b>; software development and lifecycle management <b>92</b>; virtual classroom education delivery <b>93</b>; data analytics processing <b>94</b>; transaction processing <b>95</b>; and a web API recommendation engine <b>96</b>, which will be discussed in more detail below.</p><p id=\"p-0040\" num=\"0039\"><figref idref=\"DRAWINGS\">FIG. 3</figref> illustrates an embodiment of a computer system/server <b>12</b> that may be used to implement part of computing devices <b>54</b>A-<b>54</b>N of <figref idref=\"DRAWINGS\">FIG. 1</figref>, or the web API recommendation engine <b>96</b> of <figref idref=\"DRAWINGS\">FIG. 2</figref>, which is applicable to implementing embodiments of the present invention. The computer system/server <b>12</b> is only illustrative and is not intended to suggest any limitation as to the scope of use or functionality of embodiments of the invention described herein.</p><p id=\"p-0041\" num=\"0040\">As shown in <figref idref=\"DRAWINGS\">FIG. 3</figref>, the computer system/server <b>12</b> is shown in the form of a general-purpose computing device. The components of the computer system/server <b>12</b> may include, but are not limited to, one or more processors or processing units <b>16</b>, a system memory <b>28</b>, and a bus <b>18</b> that couples various system components including system memory <b>28</b> to processor <b>16</b>.</p><p id=\"p-0042\" num=\"0041\">Bus <b>18</b> represents one or more of any of several types of bus structures, including a memory bus or memory controller, a peripheral bus, an accelerated graphics port, and a processor or local bus using any of a variety of bus architectures. By way of example, and not limitation, such architectures include an Industry Standard Architecture (ISA) bus, a Micro Channel Architecture (MCA) bus, an Enhanced ISA (EISA) bus, a Video Electronics Standards Association (VESA) local bus, and a Peripheral Component Interconnect (PCI) bus.</p><p id=\"p-0043\" num=\"0042\">The computer system/server <b>12</b> may include a variety of computer system readable media. Such media may be any available media that is accessible by the computer system/server <b>12</b>, and it includes both volatile and non-volatile media, removable and non-removable media.</p><p id=\"p-0044\" num=\"0043\">The system memory <b>28</b> can include computer system readable media in the form of volatile memory, such as random access memory (RAM) <b>30</b> and/or cache memory <b>32</b>. The computer system/server <b>12</b> may further include other removable/non-removable, volatile/non-volatile computer system storage media. By way of example, storage system <b>34</b> can be provided for reading from and writing to a non-removable, non-volatile magnetic media (not shown and typically called a &#x201c;hard drive&#x201d;). Although not shown, a magnetic disk drive for reading from and writing to a removable, non-volatile magnetic disk (e.g., a &#x201c;floppy disk&#x201d;), and an optical disk drive for reading from or writing to a removable, non-volatile optical disk such as a CD-ROM, DVD-ROM or other optical media can be provided. In such instances, each can be connected to bus <b>18</b> by one or more data media interfaces. As will be further depicted and described below, memory <b>28</b> may include at least one program product having a set (e.g., at least one) of program modules that are configured to carry out the functions of embodiments of the invention.</p><p id=\"p-0045\" num=\"0044\">A program/utility <b>40</b>, having a set (at least one) of program modules <b>42</b>, may be stored in memory <b>28</b> by way of example, and not limitation, as well as an operating system, one or more application programs, other program modules, and program data. Each of the operating system, one or more application programs, other program modules, and program data or some combination thereof, may include an implementation of a networking environment. The program modules <b>42</b> generally carry out the functions and/or methodologies of embodiments of the invention as described herein.</p><p id=\"p-0046\" num=\"0045\">The computer system/server <b>12</b> may also communicate with one or more external devices <b>14</b> such as a keyboard, a pointing device, a display <b>24</b>, etc.; one or more devices that enable a user to interact with the computer system/server <b>12</b>; and/or any devices (e.g., network card, modem, etc.) that enable the computer system/server <b>12</b> to communicate with one or more other computing devices. Such communication can occur via Input/Output (I/O) interfaces <b>22</b>. The computer system/server <b>12</b> can communicate with one or more networks such as a local area network (LAN), a general wide area network (WAN), and/or a public network (e.g., the Internet) via a network adapter <b>20</b>. As depicted, the network adapter <b>20</b> communicates with the other components of computer system/server <b>12</b> via the bus <b>18</b>. It should be understood that although not shown, other hardware and/or software components could be used in conjunction with the computer system/server <b>12</b>. Examples of these other hardware and/or software components include, but are not limited to: microcode, device drivers, redundant processing units, external disk drive arrays, RAID systems, tape drives, and data archival storage systems.</p><p id=\"p-0047\" num=\"0046\">The web API recommendation engine <b>96</b> combines static information and dynamic information to provide a web API recommendation. The static information may be generated by analyzing application source code (applications or user-provided actions) of a developer to learn which APIs and endpoints are currently being used and how these APIs are being used (e.g., what parameters are used, what data is returned, etc.). The dynamic information may be determined from monitoring requests (e.g., HTTP requests) at runtime and analyzing runtime logs. For example, the dynamic information may include quality of service (QoS) information.</p><p id=\"p-0048\" num=\"0047\">The web API recommendation engine <b>96</b> has access to application source code and monitoring data about dynamic API requests. A Cloud-provided runtime (e.g., a cloud platform as a service) like CLOUD FOUNDRY or OPENWHISK provides access to the application code in contrast to virtual machines or containers.</p><p id=\"p-0049\" num=\"0048\"><figref idref=\"DRAWINGS\">FIG. 4</figref> illustrates a method of operating the web API recommendation engine <b>96</b> according to an exemplary embodiment of the inventive concept. The method includes reading source code that invokes at least one web API (S<b>101</b>). The source code may include at least one serverless action.</p><p id=\"p-0050\" num=\"0049\">In an embodiment, a developer is running the client of a cloud-provided runtime on their computer, and the client presents a graphical user interface (GUI) on a display of the computer that enables the developer to send test code to the cloud-provided runtime. For example, the GUI could enable the developer to select a file on their computer for upload across the Internet to a server housing the cloud-provided runtime. In an embodiment, the GUI runs a program to test whether the file includes sufficient test code, and if the test determines the test code is not sufficient, the GUI provides an error message to the developer. In an embodiment, the test code is sufficient when it includes at least one web API request.</p><p id=\"p-0051\" num=\"0050\">In an embodiment, the GUI packages the test code in a payload of a message with a header that indicates the payload contains test code to be used in providing a web API recommendation. The cloud-provided runtime can recognize the received message includes the test code from reading the header, and then reads the test code. For example, the read may include the cloud-provided runtime executing an open function on the received test code.</p><p id=\"p-0052\" num=\"0051\">The method further includes extracting one or more web API request(s) from the source code (S<b>102</b>). In an embodiment, each web API request is located in a function such as a Web action. For example, the Web action could be written as a JavaScript action. In an embodiment, the web API request includes an HTTP request having a web address known as a Uniform Resource Locator (URL). The HTTP request includes text indicating that it is an HTTP request such as &#x201c;https:&#x201d; and text of an URL. The URL may include a web address of a web server and directory information indicating the location of a function on the webserver that responds to the request. The directory information may also indicate the version of the function. The HTTP request may include one or more parameters. For example, if the HTTP request is for weather data, the URL could be the web address of a server that stores a function capable of providing weather data and the parameters could indicate the city for which the weather data is to be retrieved.</p><p id=\"p-0053\" num=\"0052\"><figref idref=\"DRAWINGS\">FIG. 5</figref> illustrates an example of test code <b>200</b> that can be operated on by the cloud-provided runtime to perform the web API recommendation. The test code <b>200</b> includes a web action <b>211</b>, which includes a first web API request <b>212</b> and a second web API request <b>213</b>. In an embodiment, extraction code of the cloud-provided runtime determines it has found a web action when its parsing of the test code <b>200</b> returns a first token having text of &#x2018;function&#x2019; spaced apart from a second token having text indicating the name of the function (e.g., see function name &#x2018;getLogURL&#x2019; of <figref idref=\"DRAWINGS\">FIG. 5</figref>). The second token may include one or more parameters. In the example shown in <figref idref=\"DRAWINGS\">FIG. 5</figref>, the function receives a parameter entitled &#x2018;jobID&#x2019;. The extraction code may exit if it is not able to find a web action.</p><p id=\"p-0054\" num=\"0053\">If the extraction code is able to find a web action, it continues to parse the test code <b>200</b>. If the continued parsing returns a third token having text indicating a variable (e.g., &#x2018;var&#x2019;), a fourth token having text indicating a name of the variable, and a fifth token having text indicating an URL (e.g., &#x2018;https:xxx&#x2019;), the extraction code extracts the URL and associates the extracted URL with the variable. For example, as shown in <figref idref=\"DRAWINGS\">FIG. 5</figref>, the extraction code would extract a first URL of &#x201c;https:api.travis-ci.org/hobs/&#x201d; and associate it with a first variable &#x2018;c1&#x2019;. If there are additional tokens after the extracted URL, the extraction code may consider these to be first parameters, and associate these first parameters with the first variable. For example, as shown in <figref idref=\"DRAWINGS\">FIG. 5</figref>, the first parameters would include &#x2018;jobID&#x2019; and &#x2018;log.txt?deansi=true&#x2019;.</p><p id=\"p-0055\" num=\"0054\">The extraction code may continue parsing the test code <b>200</b> for additional variables. For example, as shown in <figref idref=\"DRAWINGS\">FIG. 5</figref>, the extraction code would next extract a second URL of &#x201c;https:s3.amaxonaws.com/archive.travis-ci.org/jobs&#x201d; and second parameters of &#x2018;jobID&#x2019; and &#x2018;/log.text&#x2019; and associate them with a second variable &#x2018;c2&#x2019;.</p><p id=\"p-0056\" num=\"0055\">While the test code <b>200</b> shown in <figref idref=\"DRAWINGS\">FIG. 5</figref> includes several variables, the test code <b>200</b> need not contain any variables. Further, if an extracted variable does not include an URL, it can be ignored.</p><p id=\"p-0057\" num=\"0056\">The parsing continues until zero or more web API requests are found. If no web API requests, the extraction code may exit with an error code indicating the test code <b>200</b> is not sufficient for performing a recommendation. The extraction code may determine that a web API request is present when it encounters a token having text that is indicative of a request such as &#x2018;request&#x2019;. Upon encountering this token, the extraction code knows that a web API request is potentially present. The extraction code may determine that the web API request is present when the next token is the same as one of the prior extracted variables that includes an URL or it includes an URL. For example, as shown in <figref idref=\"DRAWINGS\">FIG. 5</figref>, the extraction code determines that a first web API request <b>212</b> is present since a token after the token having text &#x2018;request&#x2019; is the same as a previously extracted variable &#x2018;c1&#x2019; having an URL, and determines that a second web API request <b>213</b> is present since a token after the second token having text &#x2018;request&#x2019; is the same as previously extracted variable &#x2018;c2&#x2019; also including an URL. The extraction code may determine whether the request is an HTTP post if it encounters a token such as request.post or it encounters a token specifying the method type such as &#x2018;method:POST&#x2019; after a token named &#x2018;request&#x2019;.</p><p id=\"p-0058\" num=\"0057\">In an embodiment, the extraction code generates code in a JSON format based on the web API requests determined from the test code <b>200</b> that includes information about the web API requests. <figref idref=\"DRAWINGS\">FIG. 6</figref> shown an example of code <b>300</b> in a JSON format that corresponds to the web API requests extracted from the test code <b>200</b> of <figref idref=\"DRAWINGS\">FIG. 5</figref>. In this example, the JSON code <b>300</b> includes a tag (e.g., &#x201c;requests&#x201d;:) indicating that web API requests are present, and a listing including text associated with each of the web API requests. For example, each item in the listing may include a first tag (e.g., &#x201c;url&#x201d;:) indicating that that an URL is present, a second tag (e.g., &#x201c;method&#x201d;:) indicating that a HTTP method is present in the request, and a third tag (e.g., &#x201c;parameters&#x201d;:) indicating that parameters to be passed to the request are present. For example, text after the first tag may indicate the URL, text after the second tag may indicate the type of method (e.g., &#x201c;get&#x201d;, &#x201c;post&#x201d;, etc.), and text after the third tag may indicate the actual parameters that are to be passed to the web API request. If the second tag is not present the extraction code may assume that an HTTP GET is present in the request.</p><p id=\"p-0059\" num=\"0058\">The method further includes logging a dynamic trace of the extracted web API requests (S<b>103</b>). The cloud-provided runtime may have previously logged use of various web APIs by various application, which may include the web API associated with the extracted web API requests. So this logging may have started before the web API requests were extracted from the test code. If the cloud-provided runtime is not currently logging use of web APIs or is not currently logging use of web APIs associated with the extracted web API requests, the cloud-provided runtime can configure a logging routine to begin logging these events.</p><p id=\"p-0060\" num=\"0059\"><figref idref=\"DRAWINGS\">FIG. 7</figref> shows an example of a log file <b>400</b> generated by the logging that includes request information <b>410</b> and response information <b>420</b>. The request information <b>410</b> may include information (e.g., &#x2018;REQ&#x2019;) indicating it is request information so it can be differentiated from the response information <b>420</b>. The response information <b>420</b> may include information (e.g., &#x2018;RES&#x2019;) indicating it is response information so it can be differentiated from the request information <b>420</b>. In an embodiment, the response information <b>420</b> that includes information received in response a request and is located on the next line after the request information <b>410</b> associated with the request.</p><p id=\"p-0061\" num=\"0060\">The request information <b>410</b> may include information indicating the internet protocol (IP) address of the computer that is to respond to the web API request and the corresponding response information <b>420</b> may include the IP address of the computer that responded to the web API request.</p><p id=\"p-0062\" num=\"0061\">The request information <b>410</b> may further include a time when the web API request was initiated (request time) and the corresponding response information <b>420</b> may include a time when the response to the web API request was received by the party that issued the request (e.g., response time). The cloud-provided runtime can determine latency of the web API request by subtracting the response time from the request time. The request information <b>410</b> may further include the date when the web API request was initiated and the corresponding response information <b>420</b> may include the date when the response to the web API request was received by the party that issued the request. The dates may be used along with the times to determine the latency.</p><p id=\"p-0063\" num=\"0062\">The request information <b>410</b> may include text indicating the type of HTTP request (e.g., GET, POST, etc.) that was initiated by the party and the corresponding response information may include text indicating the type of the HTTP request being responded to.</p><p id=\"p-0064\" num=\"0063\">The request information <b>410</b> and the response information <b>410</b> may include the URL associated with the computer that is responding to the request.</p><p id=\"p-0065\" num=\"0064\">The response information <b>420</b> may additionally include status information <b>430</b> (e.g., a status code), which indicates whether or not the request was successful or failed. For example, the status information <b>430</b> may be a first value to indicate a success and a second other value to indicate a failure.</p><p id=\"p-0066\" num=\"0065\">The method further includes creating a recommendation that indicates one web API among a plurality of web APIs (S<b>104</b>). For example, if the test code <b>200</b> includes a first web API and has a first quality below a certain quality threshold, the recommendation identifies a second web API having a second quality higher than the first quality or higher than the quality threshold. The creating of the recommendation may include aggregating the logs, deriving at least one quality of service (QoS) from the aggregated logs, and generating the recommendation from each derived QoS. For example, the cloud-provided runtime can obtain metrics on the responsiveness and/or the error rate of a given web API by analyzing the log files, to determine which web API to recommend.</p><p id=\"p-0067\" num=\"0066\">For example, the average response time for a given web API may be calculated by summing the calculated latencies for the given web API and dividing the result by the number of logged requests to the given web API. For example, a counter can be incremented each time a request to a given web API is responded to successfully to generate a count, and that count can be divided by the total number of requests to the given web API including the ones that failed to calculate the error rate of the web API. The cloud-provided runtime can exclude the requests that failed from the calculation of the response time.</p><p id=\"p-0068\" num=\"0067\">As shown in <figref idref=\"DRAWINGS\">FIG. 8</figref>, when a serverless platform such as the cloud-provided runtime executes a web action, an object (e.g., see web Activation <b>1</b>, <b>2</b>, . . . , N) is instantiated to perform the web action. <figref idref=\"DRAWINGS\">FIG. 8</figref> shows a series of interrelated web actions that call one another, where the second Activation (i.e., Activation <b>2</b>) associated with the second web action generates data <b>500</b> including information about the second web action and what triggered it. In an embodiment, the data <b>500</b> is in a JSON format. For example, the data <b>500</b> may include information on the duration of the web action, a name identifier of the web action (e.g., &#x201c;apih-oai-compose&#x201d;) being executed, a name identifier (e.g., &#x201c;aafd132j . . . &#x201d;) of the web action (e.g., the first web section) that caused the web action (e.g., the second web action) to be executed, a version of the web action (e.g., &#x201c;version&#x201d;), and the data that was sent to the web action (e.g., &#x201c;value&#x201d;). For example, the &#x201c;value&#x201d; shown in <figref idref=\"DRAWINGS\">FIG. 8</figref> may represent the data passed from the first web action (e.g., Action <b>1</b>) to the second web action when the first web action called the second web action. The cloud-provided runtime may access the data <b>500</b> using a call to the web activation (e.g., Activation <b>2</b>).</p><p id=\"p-0069\" num=\"0068\">The creation of the recommendation may include analyzing the log files (e.g., see <b>400</b> in <figref idref=\"DRAWINGS\">FIG. 7</figref>) and the data maintained by the web activations (e.g., see <b>500</b> in <figref idref=\"DRAWINGS\">FIG. 8</figref>) to determine a base URL, an URL path of the base URL, and the data passed to the web actions. The web API can be identified from the base URL. An endpoint (e.g., a web service endpoint) can be identified from the URL path. The endpoint is a web address at which clients of a specific service can gain access to the service.</p><p id=\"p-0070\" num=\"0069\">Each request information <b>410</b> and corresponding response information <b>420</b> may be grouped together into a tuple. The tuples may then be grouped based on a particular policy. For example, tuples having calls to the same web API (e.g., same base URL) may be grouped together. Other groupings can be made based on API functions or categories, API provides, API cost, etc. Tuples relevant to the current timeframe (e.g., last week, last month) may be selected for analysis. The resulting tuples may be analyzed to determine how often server/user errors occurs, the size the requests, and the size of the responses. For example, if errors are common (e.g., errors occurs in &#x3e;30% of the requests) when using a first web API among several web APIs that are used retrieve weather data, the cloud-provided runtime can select another one of the web APIs where errors are rarely encountered (e.g., errors occur in &#x3c;5% of the requests). The cloud-provided runtime may consider more than one factor when making a recommendation. In an embodiment, the cloud-provided runtime considers the percent of requests that succeed, the duration of the requests, and the current timeframe. For example, the cloud-provided runtime could recommend a web API where 95% of the requests have succeeded in less than 200 ms in the last hour. Resampling, moving averages, and least square methods may be applied to the data of the tuples to eliminate random noise.</p><p id=\"p-0071\" num=\"0070\">The method further includes sending the recommendation to the developer (S<b>105</b>). The cloud-provided runtime can provide the recommendation to the developer while the developer is writing their code. For example, the code editor of the client of the cloud-provided runtime that the developer is using to write their code may display a popup menu suggesting a different API after the user types in part or all of a name of a web API that is capable of performing the same function. For example, if the user types the name of a web API into the client that is typically used to retrieve weather data, and the cloud-runtime has discovered a better one, the cloud-runtime can cause a message to popup on a display of the developer through the client informing the developer of the better web API. The popup may indicate reasons why the recommended web API is better and offer to auto-replace the previously entered web API with the recommended web API.</p><p id=\"p-0072\" num=\"0071\">The cloud-provided runtime may consider the endpoints used when making a web API recommendation. For example, if the endpoint of a first web API has better latency than the endpoint of a second web API, the cloud-runtime could recommend the second web API.</p><p id=\"p-0073\" num=\"0072\">The cloud-runtime may consider the geographic location of the server deploying the web actions. For example, even though the same type of web API is deployed in country A and country B, it is possible that the web API is maintained better in country B. For example, if the cloud-provided runtime determines that the same web API has the highest quality in country A, it could recommend the web API with an endpoint that is associated with country A.</p><p id=\"p-0074\" num=\"0073\">The cloud-provided runtime may recommend a web API from information it has collected from multiple other developers. For example, if the cloud-provided runtime determines that 90% of developers use a given web API to support the same functions implemented by a current developer, the cloud-provided runtime can recommend that web API to the current developer.</p><p id=\"p-0075\" num=\"0074\">The cloud-provided runtime may consider expected availability of several web APIs in determining which of the web APIs to recommend. In an embodiment, the expected availability is the ratio of requests that succeed verses the ones that fail. For example, the logs may shows that many web API requests were cancelled due to a timeout error, which indicates the API could not be reached (i.e., has a diminishing availability).</p><p id=\"p-0076\" num=\"0075\">The cloud-provided runtime may consider the parameters the developer is using with a given web API to determine whether to recommend a different web API. For example, if the test code being analyzed uses a first web API with a particular parameter known to severely increase the latency of the first web API, and the cloud-provided runtime has observed that a second web API using the same parameter has a much smaller increase in latency, the cloud-provided runtime can recommend the second web API.</p><p id=\"p-0077\" num=\"0076\">The recommended API can be provided through an integrated development environment (IDE) that includes a code editor, a compiler or interpreter, and a debugger that the developer accesses through a single graphical user interface. The recommended API can also be provided within a cloud-based editor.</p><p id=\"p-0078\" num=\"0077\">The present invention may be a system, a method, and/or a computer program product. The computer program product may include a computer readable storage medium (or media) having computer readable program instructions thereon for causing a processor to carry out aspects of the present invention.</p><p id=\"p-0079\" num=\"0078\">The computer readable storage medium can be a tangible device that can retain and store instructions for use by an instruction execution device. The computer readable storage medium may be, for example, but is not limited to, an electronic storage device, a magnetic storage device, an optical storage device, an electromagnetic storage device, a semiconductor storage device, or any suitable combination of the foregoing. A non-exhaustive list of more specific examples of the computer readable storage medium includes the following: a portable computer diskette, a hard disk, a random access memory (RAM), a read-only memory (ROM), an erasable programmable read-only memory (EPROM or Flash memory), a static random access memory (SRAM), a portable compact disc read-only memory (CD-ROM), a digital versatile disk (DVD), a memory stick, a floppy disk, a mechanically encoded device such as punch-cards or raised structures in a groove having instructions recorded thereon, and any suitable combination of the foregoing. A computer readable storage medium, as used herein, is not to be construed as being transitory signals per se, such as radio waves or other freely propagating electromagnetic waves, electromagnetic waves propagating through a waveguide or other transmission media (e.g., light pulses passing through a fiber-optic cable), or electrical signals transmitted through a wire.</p><p id=\"p-0080\" num=\"0079\">Computer readable program instructions described herein can be downloaded to respective computing/processing devices from a computer readable storage medium or to an external computer or external storage device via a network, for example, the Internet, a local area network, a wide area network and/or a wireless network. The network may comprise copper transmission cables, optical transmission fibers, wireless transmission, routers, firewalls, switches, gateway computers and/or edge servers. A network adapter card or network interface in each computing/processing device receives computer readable program instructions from the network and forwards the computer readable program instructions for storage in a computer readable storage medium within the respective computing/processing device.</p><p id=\"p-0081\" num=\"0080\">Computer readable program instructions for carrying out operations of the present invention may be assembler instructions, instruction-set-architecture (ISA) instructions, machine instructions, machine dependent instructions, microcode, firmware instructions, state-setting data, or either source code or object code written in any combination of one or more programming languages, including an object oriented programming language such as Smalltalk, C++ or the like, and conventional procedural programming languages, such as the &#x201c;C&#x201d; programming language or similar programming languages. The computer readable program instructions may execute entirely on the user\\'s computer, partly on the user\\'s computer, as a stand-alone software package, partly on the user\\'s computer and partly on a remote computer or entirely on the remote computer or server. In the latter scenario, the remote computer may be connected to the user\\'s computer through any type of network, including a local area network (LAN) or a wide area network (WAN), or the connection may be made to an external computer (for example, through the Internet using an Internet Service Provider). In some embodiments, electronic circuitry including, for example, programmable logic circuitry, field-programmable gate arrays (FPGA), or programmable logic arrays (PLA) may execute the computer readable program instructions by utilizing state information of the computer readable program instructions to personalize the electronic circuitry, in order to perform aspects of the present invention.</p><p id=\"p-0082\" num=\"0081\">Aspects of the present invention are described herein with reference to flowchart illustrations and/or block diagrams of methods, apparatus (systems), and computer program products according to embodiments of the invention. It will be understood that each block of the flowchart illustrations and/or block diagrams, and combinations of blocks in the flowchart illustrations and/or block diagrams, can be implemented by computer readable program instructions.</p><p id=\"p-0083\" num=\"0082\">These computer readable program instructions may be provided to a processor of a general purpose computer, special purpose computer, or other programmable data processing apparatus to produce a machine, such that the instructions, which execute via the processor of the computer or other programmable data processing apparatus, create means for implementing the functions/acts specified in the flowchart and/or block diagram block or blocks. These computer readable program instructions may also be stored in a computer readable storage medium that can direct a computer, a programmable data processing apparatus, and/or other devices to function in a particular manner, such that the computer readable storage medium having instructions stored therein comprises an article of manufacture including instructions which implement aspects of the function/act specified in the flowchart and/or block diagram block or blocks.</p><p id=\"p-0084\" num=\"0083\">The computer readable program instructions may also be loaded onto a computer, other programmable data processing apparatus, or other device to cause a series of operational steps to be performed on the computer, other programmable apparatus or other device to produce a computer implemented process, such that the instructions which execute on the computer, other programmable apparatus, or other device implement the functions/acts specified in the flowchart and/or block diagram block or blocks.</p><p id=\"p-0085\" num=\"0084\">The flowchart and block diagrams in the Figures illustrate the architecture, functionality, and operation of possible implementations of systems, methods, and computer program products according to various embodiments of the present invention. In this regard, each block in the flowchart or block diagrams may represent a module, segment, or portion of instructions, which comprises one or more executable instructions for implementing the specified logical function(s). In some alternative implementations, the functions noted in the block may occur out of the order noted in the figures. For example, two blocks shown in succession may, in fact, be executed substantially concurrently, or the blocks may sometimes be executed in the reverse order, depending upon the functionality involved. It will also be noted that each block of the block diagrams and/or flowchart illustration, and combinations of blocks in the block diagrams and/or flowchart illustration, can be implemented by special purpose hardware-based systems that perform the specified functions or acts or carry out combinations of special purpose hardware and computer instructions.</p><?DETDESC description=\"Detailed Description\" end=\"tail\"?></description><us-claim-statement>What is claimed is:</us-claim-statement><claims id=\"claims\"><claim id=\"CLM-00001\" num=\"00001\"><claim-text>1. A computer-implemented method for recommending a web application programming interface (API), the method comprising:<claim-text>retrieving, by a cloud computing service, test source code from a remote computer;</claim-text><claim-text>determining, by the cloud computing service, whether a call to a first web API among a plurality of web APIs is present in the test source code; and</claim-text><claim-text>when it is determined that the call is present,<claim-text>determining, by the cloud computing device, a parameter used by the call;</claim-text><claim-text>determining, by the cloud computing device, a first latency increase caused by the first web API using the parameter;</claim-text><claim-text>reading, by the cloud computing service, at least one log file to extract information about at least application that has used the first web API;</claim-text><claim-text>determining, by the cloud computing service, a first quality of the first web API from the extracted information and the first latency increase; and</claim-text><claim-text>sending, by the cloud computing service, a message to the remote computer recommending a second web API among the web APIs having a second quality higher than the first quality,</claim-text><claim-text>wherein the second quality is determined from a second latency increase caused by the second web API using the same parameter.</claim-text></claim-text></claim-text></claim><claim id=\"CLM-00002\" num=\"00002\"><claim-text>2. The computer-implemented method of <claim-ref idref=\"CLM-00001\">claim 1</claim-ref>, wherein the cloud computing service determines the call is present when it determines a web action including a uniform resource locator (URL) is present in the test source code.</claim-text></claim><claim id=\"CLM-00003\" num=\"00003\"><claim-text>3. The computer-implemented method of <claim-ref idref=\"CLM-00002\">claim 2</claim-ref>, wherein the URL is included in a Hypertext Transfer Protocol (HTTP) request within the test code.</claim-text></claim><claim id=\"CLM-00004\" num=\"00004\"><claim-text>4. The computer-implemented method of <claim-ref idref=\"CLM-00001\">claim 1</claim-ref>, wherein the log file includes a first time indicating when the call sent a Hypertext Transfer Protocol (HTTP) request to the first web API and a second time indicating when a response was received from the first web API based on the request.</claim-text></claim><claim id=\"CLM-00005\" num=\"00005\"><claim-text>5. The computer-implemented method of <claim-ref idref=\"CLM-00004\">claim 4</claim-ref>, wherein the determining of the first quality comprises subtracting the second time from the first time to determine a first latency, the first quality is determined from the first latency and the first latency increase, and the second quality is determined from a second latency of the second web API and the second latency increase.</claim-text></claim><claim id=\"CLM-00006\" num=\"00006\"><claim-text>6. The computer-implemented method of <claim-ref idref=\"CLM-00001\">claim 1</claim-ref>, wherein the determining of the first quality comprises:<claim-text>determining a first count of hypertext transfer protocol (HTTP) requests sent to the first web API during a period of time;</claim-text><claim-text>determining a second count of the HTTP requests that were successful during the period;</claim-text><claim-text>determining a success rate by dividing the second count by the first count; and</claim-text><claim-text>setting the first quality based on the first latency increase and the success rate.</claim-text></claim-text></claim><claim id=\"CLM-00007\" num=\"00007\"><claim-text>7. The computer-implemented method of <claim-ref idref=\"CLM-00006\">claim 6</claim-ref>, wherein the determining of the second count is based on a status code in the log file indicating whether the HTTP requests were successful.</claim-text></claim><claim id=\"CLM-00008\" num=\"00008\"><claim-text>8. The computer-implemented method of <claim-ref idref=\"CLM-00001\">claim 1</claim-ref>, wherein the message is sent after the cloud computing service determines the developer has entered the first web API into a code editor.</claim-text></claim><claim id=\"CLM-00009\" num=\"00009\"><claim-text>9. The computer-implemented method of <claim-ref idref=\"CLM-00001\">claim 1</claim-ref>, further comprising the cloud computing service sending a message to the remote computer indicating that a recommendation cannot be provided based on the test source code.</claim-text></claim><claim id=\"CLM-00010\" num=\"00010\"><claim-text>10. The computer-implemented method of <claim-ref idref=\"CLM-00001\">claim 1</claim-ref>, where the call is a web action and the executing instantiates a web activation associated with the web action.</claim-text></claim><claim id=\"CLM-00011\" num=\"00011\"><claim-text>11. The computer-implemented method of <claim-ref idref=\"CLM-00010\">claim 10</claim-ref>, wherein the determining of the first quality comprises:<claim-text>accessing the web activation to retrieve information indicating data passed to the web action; and</claim-text><claim-text>determining the first quality from the extracted information, the first latency increase, and the data.</claim-text></claim-text></claim><claim id=\"CLM-00012\" num=\"00012\"><claim-text>12. A computer system for recommending a web application programming interface (API), the computer system comprising:<claim-text>a memory storing a cloud computing service; and</claim-text><claim-text>a processor configured to execute the cloud computing service,</claim-text><claim-text>wherein the cloud computing service is configured to retrieve source code from a remote computer and determine whether a call to a first web API among a plurality of web APIs is present in the test source code,</claim-text><claim-text>wherein the cloud computing service determines a parameter used by the call, determines a first latency increase caused by the first web API using the parameter, reads at least one log file to extract information about at least one application that has used the first web API, determines a first quality of the first web API from the extracted information and the first latency increase, and sends a message to the remote computer recommending a second web API among the web APIs having a second quality higher than the first quality, when it determines that the call is present,</claim-text><claim-text>wherein the second quality is determined from a second latency increase caused by the second web API using the same parameter.</claim-text></claim-text></claim><claim id=\"CLM-00013\" num=\"00013\"><claim-text>13. The computer system of <claim-ref idref=\"CLM-00012\">claim 12</claim-ref>, the cloud computing service determines the call is present it determines a web action including a uniform resource locator (URL) is present in the test source code.</claim-text></claim><claim id=\"CLM-00014\" num=\"00014\"><claim-text>14. The computer system of <claim-ref idref=\"CLM-00012\">claim 12</claim-ref>, wherein the URL is included in a Hypertext Transfer Protocol (HTTP) request within the test code.</claim-text></claim><claim id=\"CLM-00015\" num=\"00015\"><claim-text>15. The computer system of <claim-ref idref=\"CLM-00012\">claim 12</claim-ref>, wherein the log file includes a first time indicating when the call sent a Hypertext Transfer Protocol (HTTP) request to the first web API and a second time indicating when a response was received from the first web API based on the request, wherein a first latency is determined by subtracting the second time from the first time, the first quality is determined from the first latency and the first latency increase, and the second quality is determined from a second latency of the second web API and the second latency increase.</claim-text></claim><claim id=\"CLM-00016\" num=\"00016\"><claim-text>16. The computer system of <claim-ref idref=\"CLM-00012\">claim 12</claim-ref>, wherein the cloud computing services determines the first quality by:<claim-text>determining a first count of hypertext transfer protocol (HTTP) requests sent to the first web API during a period of time;</claim-text><claim-text>determining a second count of the HTTP requests that were successful during the period;</claim-text><claim-text>determining a success rate by dividing the second count by the first count; and</claim-text><claim-text>setting the first quality based on the first latency increase and the success rate.</claim-text></claim-text></claim><claim id=\"CLM-00017\" num=\"00017\"><claim-text>17. The computer system of <claim-ref idref=\"CLM-00012\">claim 12</claim-ref>, wherein the message is sent after the cloud computing service determines the developer has entered the first web API into a code editor.</claim-text></claim><claim id=\"CLM-00018\" num=\"00018\"><claim-text>18. The computer system of <claim-ref idref=\"CLM-00012\">claim 12</claim-ref>, wherein the cloud computing service sends a message to the remote computer indicating that a recommendation cannot be provided based on the test source code.</claim-text></claim><claim id=\"CLM-00019\" num=\"00019\"><claim-text>19. A computer program product for recommending a web application programming interface (API), the computer program product comprising a computer readable storage medium having program instructions embodied therewith, wherein the program instructions are executable by a processor to perform a method comprising:<claim-text>retrieving test source code from a remote computer of the developer;</claim-text><claim-text>determining whether a call to a first web API among a plurality of web APIs is present in the test source code; and</claim-text><claim-text>when it is determined that the call is present,<claim-text>determining a parameter used by the call;</claim-text><claim-text>determining a first latency increase caused by the first web API using the parameter;</claim-text><claim-text>reading at least one log file to extract information about at least one application that has used the first web API;</claim-text><claim-text>determining a first quality of the first web API from the extracted information and the first latency increase; and</claim-text><claim-text>sending a message to the remote computer recommending a second web API among the web APIs having a second quality higher than the first quality,</claim-text><claim-text>wherein the second quality is determined from a second latency increase caused by the second web API using the same parameter.</claim-text></claim-text></claim-text></claim><claim id=\"CLM-00020\" num=\"00020\"><claim-text>20. The computer program product of <claim-ref idref=\"CLM-00019\">claim 19</claim-ref>, wherein the cloud computing service determines the call is present when it determines a web action including a uniform resource locator (URL) is present in the test source code.</claim-text></claim></claims></us-patent-grant>'"
      ]
     },
     "execution_count": 4,
     "metadata": {},
     "output_type": "execute_result"
    }
   ],
   "source": [
    "lp_lines = result[len(result) -1] #get the last patent from extracted result\n",
    "lp_lines"
   ]
  },
  {
   "cell_type": "markdown",
   "metadata": {},
   "source": [
    "# 4. Parsing file and extracting\n",
    "\n",
    "In this part, there will be several functions to extract each element."
   ]
  },
  {
   "cell_type": "markdown",
   "metadata": {},
   "source": [
    "## 4.1 Match grant id"
   ]
  },
  {
   "cell_type": "markdown",
   "metadata": {},
   "source": [
    "The first feature we need to extract is grant id which is the unique ID for a patent grant consisting of alphanumeric characters. so we can see the txt file, the grant id is contained within the beginning part of each patent. The string is `file=....`. so the regular expression that I defined used `\\w` which can avoid match dash symbol. Then because there is not only one ID in the same patent, I pick the `re.search` function to match the first grant ID and return. Finally the `group()` function is to get the actual value from `re.search`. And we test this function."
   ]
  },
  {
   "cell_type": "code",
   "execution_count": 5,
   "metadata": {},
   "outputs": [
    {
     "data": {
      "text/plain": [
       "'US10360376'"
      ]
     },
     "execution_count": 5,
     "metadata": {},
     "output_type": "execute_result"
    }
   ],
   "source": [
    "def match_grant_id(result):\n",
    "    grant_id_pattern = 'file=\"(\\w*)' ##'\\w' to matche any alphanumeric character and the underscore\n",
    "    grant_id = re.search(grant_id_pattern, result)\n",
    "    grant_id = grant_id.group(1) ## get the grant id\n",
    "    return grant_id\n",
    "match_grant_id(result[0]) ##test the function"
   ]
  },
  {
   "cell_type": "markdown",
   "metadata": {},
   "source": [
    "## 4.2 Match patent title"
   ]
  },
  {
   "cell_type": "markdown",
   "metadata": {},
   "source": [
    "It is not so hard to find the patent title which is within the `<invention-title...>`. So there is a similar function to define. In addition, some tags are contained in patent title. And obviously all the tags is in the angle brackets`<>`. Hence, we need to use `re.sub` function to screen out those tags and remove."
   ]
  },
  {
   "cell_type": "code",
   "execution_count": 6,
   "metadata": {},
   "outputs": [
    {
     "data": {
      "text/plain": [
       "'Method for operating a computer unit, and such a computer unit'"
      ]
     },
     "execution_count": 6,
     "metadata": {},
     "output_type": "execute_result"
    }
   ],
   "source": [
    "def patent_title(result):\n",
    "    title_pattern = '<invention-title.*?>(.*?)<\\/invention-title>'\n",
    "    html_tag = '<.*?>' ## match all the content in the angle brackets\n",
    "    title = re.search(title_pattern, result)\n",
    "    title = title.group(1)\n",
    "    title = re.sub(html_tag,'',title) ##remove all the html tags\n",
    "    return title\n",
    "patent_title(result[0])"
   ]
  },
  {
   "cell_type": "markdown",
   "metadata": {},
   "source": [
    "## 4.3 Match kind of patent"
   ]
  },
  {
   "cell_type": "markdown",
   "metadata": {},
   "source": [
    "The next part is the kind of patent. By following the reference called [The ABCs of Patent Kind Codes](https://www.finnegan.com/en/insights/blogs/prosecution-first/the-abcs-of-patent-kind-codes.html). And I noticed that only `B1` and `B2` need to be treated particularly which should add a description behind. So the `if else` function is useful here to judge which kind belongs the type."
   ]
  },
  {
   "cell_type": "code",
   "execution_count": 7,
   "metadata": {},
   "outputs": [
    {
     "data": {
      "text/plain": [
       "'Utility Patent Grant (with a published application) issued on or after January 2, 2001.'"
      ]
     },
     "execution_count": 7,
     "metadata": {},
     "output_type": "execute_result"
    }
   ],
   "source": [
    "def match_kind(result):\n",
    "    kind_pattern = '<kind>(\\w*)<\\/kind>'\n",
    "    type_pattern = '<application-reference\\sappl-type=\"(\\w*)\">'\n",
    "    kind = re.search(kind_pattern, result)\n",
    "    kind = kind.group(1)\n",
    "    types = re.search(type_pattern, result)\n",
    "    types = types.group(1)\n",
    "    types = types.capitalize() ## upper first character\n",
    "    kinds = ''\n",
    "    \n",
    "    ## judgment for kind\n",
    "    if kind == 'B1': \n",
    "        return types + ' Patent Grant (no published application) issued on or after January 2, 2001.'\n",
    "    elif kind == 'B2':\n",
    "        return types + ' Patent Grant (with a published application) issued on or after January 2, 2001.'\n",
    "    elif types == 'Plant':\n",
    "        return '2001\"'\n",
    "    else:\n",
    "        return types + ' Patent'\n",
    "match_kind(result[0])"
   ]
  },
  {
   "cell_type": "markdown",
   "metadata": {},
   "source": [
    "## 4.4 Count number of claims"
   ]
  },
  {
   "cell_type": "markdown",
   "metadata": {},
   "source": [
    "For the number of claims, `re.findall` could be used to return a list of claim ID. And the length of this list is the number of claims, because the claim ID is unique, we do not need to concern about counting the duplicate claims."
   ]
  },
  {
   "cell_type": "code",
   "execution_count": 8,
   "metadata": {},
   "outputs": [
    {
     "data": {
      "text/plain": [
       "11"
      ]
     },
     "execution_count": 8,
     "metadata": {},
     "output_type": "execute_result"
    }
   ],
   "source": [
    "def count_num_claims(result):\n",
    "    claims_pattern = '<claim.id.*?>'\n",
    "    claims = re.findall(claims_pattern, result) ##return a list of claim id\n",
    "    claims_count = len(claims) ##count the length of list = number of claims\n",
    "    return claims_count\n",
    "count_num_claims(result[0])"
   ]
  },
  {
   "cell_type": "markdown",
   "metadata": {},
   "source": [
    "## 4.5 Match inventors"
   ]
  },
  {
   "cell_type": "markdown",
   "metadata": {},
   "source": [
    "It is a little bit complicated to get the name of inventors. Firstly, the scope of inventors should be defined, because not only inventors have last name and first name. Then the name can be captured from the inventors body. Finally, For loop have to be used to add the space between first name and last name, also add a comma after each inventor."
   ]
  },
  {
   "cell_type": "code",
   "execution_count": 9,
   "metadata": {},
   "outputs": [
    {
     "data": {
      "text/plain": [
       "'[Edward Michael Leonard, Robert Howard Sawers, Kip Christopher Larson, Devesh Mishra, Eric Mathew Mack, Jeffrey B. Maurer]'"
      ]
     },
     "execution_count": 9,
     "metadata": {},
     "output_type": "execute_result"
    }
   ],
   "source": [
    "def match_inventors(result):\n",
    "    name_pattern = r'<inventors>(.*?)</inventors>' ## identify the boundary to make sure only the inventos' name can be accessed\n",
    "    last_name = r'<last-name>(.*?)</last-name>'\n",
    "    first_name = r'<first-name>(.*?)</first-name>'\n",
    "    names = re.search(name_pattern, result) ## search the inventors' information from the whole content\n",
    "    if names == None:\n",
    "        return '[NA]' ## return `NA` if the name is none.\n",
    "    names = names.group()\n",
    "    lnames = re.findall(last_name, names) \n",
    "    fnames = re.findall(first_name, names) ## return a list of name\n",
    "    \n",
    "    if lnames == 'Null' or fnames == 'Null':\n",
    "        return '[NA]'\n",
    "    inv_name = '' ## create a blank string to store names\n",
    "    for i in range(len(lnames)):\n",
    "        name = fnames[i] + ' ' + lnames[i] ## add a space between fname and lname\n",
    "        inv_name += name ## append into string\n",
    "        inv_name += ', ' ## add a comma behind full name\n",
    "    inv_name = inv_name.strip(', ') ## to remove the last useless comma\n",
    "    return '[' + inv_name +']'\n",
    "match_inventors(result[1])"
   ]
  },
  {
   "cell_type": "markdown",
   "metadata": {},
   "source": [
    "## 4.6 Citations_applicant_count"
   ]
  },
  {
   "cell_type": "markdown",
   "metadata": {},
   "source": [
    "4.6 and 4.7 are similar to 4.4."
   ]
  },
  {
   "cell_type": "code",
   "execution_count": 10,
   "metadata": {},
   "outputs": [
    {
     "data": {
      "text/plain": [
       "7"
      ]
     },
     "execution_count": 10,
     "metadata": {},
     "output_type": "execute_result"
    }
   ],
   "source": [
    "def count_applicant(result):\n",
    "    app_pattern = '<category>cited\\sby\\sapplicant<\\/category>' ##'\\s' represent to match a space\n",
    "    apps = re.findall(app_pattern, result) ##return a list\n",
    "    app_count = len(apps)\n",
    "    return app_count\n",
    "count_applicant(result[0])"
   ]
  },
  {
   "cell_type": "markdown",
   "metadata": {},
   "source": [
    "## 4.7 Citations_examiner_count"
   ]
  },
  {
   "cell_type": "code",
   "execution_count": 11,
   "metadata": {},
   "outputs": [
    {
     "data": {
      "text/plain": [
       "6"
      ]
     },
     "execution_count": 11,
     "metadata": {},
     "output_type": "execute_result"
    }
   ],
   "source": [
    "##same as 4.6\n",
    "def count_examiner(result):\n",
    "    exa_pattern = '<category>cited\\sby\\sexaminer<\\/category>'\n",
    "    examiner = re.findall(exa_pattern, result)\n",
    "    exa_count = len(examiner)\n",
    "    return exa_count\n",
    "count_examiner(result[1])"
   ]
  },
  {
   "cell_type": "markdown",
   "metadata": {},
   "source": [
    "## 4.8 Claims_text"
   ]
  },
  {
   "cell_type": "markdown",
   "metadata": {},
   "source": [
    "This part is similar to the get patent title function. But the content of claim contains not only the tags but also some messy code. So all of these useless text need to be removed to avoid affect reading."
   ]
  },
  {
   "cell_type": "code",
   "execution_count": 12,
   "metadata": {},
   "outputs": [
    {
     "data": {
      "text/plain": [
       "'[1. A computer-implemented method, comprising:hosting, by a computer system, a forecast module, the computer system interfacing with a planning system, a management system, a data store, and a computing resource that is associated with an operator of an inventory of an electronic marketplace, wherein:the planning system is configured to plan a flow of units of items through the inventory by at least generating simulations of supply and demand for the items during a planning horizon, and a labor forecast and a capacity forecast associated with inventorying the units of the items during the planning the planning horizon,the management system is configured to manage the flow based at least in part on a sales and operations planning  forecast that is associated with an item of the items and that is generated by the forecast module,the data store stores the simulations, the labor forecast, and the capacity forecast, andentries in the data store are updated based at least in part on input of the operator at the computing resource, the input indicating realizations of the supply, the demand, the labor forecast, and the capacity forecast;accessing, by the forecast module from the data store, data associated with the item, the data comprising the simulations, the labor forecast, and the capacity forecast;generating, by the forecast module, the  forecast based at least in part on the data, the  forecast generated by at least using the simulations, the labor forecast, and the capacity forecast as variables and searching for a labor level and a capacity level from the variables according to an optimization parameter;outputting, by the forecast module, the  forecast to the management system;monitoring, by the forecast module, real-time data associated with orders for the item and with the realizations of the labor forecast and the capacity forecast during the planning horizon, the real-time data available from the data store and generated by the management system, the real-time data monitored based at least in part on a feedback loop that is between the forecast module and the management system and that uses a stateless library to input the real-time data from the data store to the forecast module;updating, by the forecast module, the  forecast during the planning horizon based at least in part on the real-time data to generate an updated  forecast, wherein updating the  forecast comprises balancing an allocation of units of the item to the inventory with an allocation of other units of items to another inventory of the electronic marketplace; andoutputting, by the forecast module, the updated  forecast to the management system.2. The computer-implemented method of claim 1, wherein updating the  forecast comprises changing the labor forecast by at least:generating a plurality of changes to the labor forecast;estimating a plurality of costs corresponding to the plurality of changes;determining a cost of the plurality of costs that maximizes profitability; andchanging the labor forecast based at least in part on a change corresponding to the cost from the plurality of changes that maximizes the profitability.3. The computer-implemented method of claim 1, wherein the  forecast for the item is generated based at least in part on additional data associated with a plurality of items available for ordering from the electronic marketplace, wherein at least a portion of the additional data is available from the management system.4. One or more non-transitory computer-readable media comprising instructions that, when executed with one or more processors of a system interfacing with a planning system, a management system, a data store, and a computing resource of an operator of an inventory, cause the system to at least:generate a forecast for an item by at least using, as variables, simulations of supply and demand associated with the item over a planning horizon, and a labor forecast and a capacity forecast associated with inventorying items in an inventory during the planning horizon, and searching for a labor level and capacity level from the variables according to an optimization parameter;monitor real-time data associated with realizations of the supply and demand variables during the planning horizon, at least a portion of the real-time data available from the management system configured to manage orders for units of the item from the inventory, the real-time data monitored based at least in part on a feedback loop that is between the system and the management system and that uses a stateless library to input the real-time data to the system; andupdate the forecast during the planning horizon based at least in part on the real-time data, the update comprising changing the at least one of: the labor forecast or the capacity forecast, wherein updating the forecast during the planning horizon comprises balancing an allocation of the units of the item to the inventory with an allocation of other units of items to another inventory.5. The one or more non-transitory computer-readable media of claim 4, wherein the forecast represents a sales and operations planning  forecast.6. The one or more non-transitory computer-readable media of claim 4, wherein the item is available for ordering from an electronic marketplace, and wherein the electronic marketplace is configured to offer the item as available from the inventory based at least in part on the management system.7. The one or more non-transitory computer-readable media of claim 4, wherein the forecast is further generated based at least in part on one or more of: lead time information for receiving the units of the item at the inventory, policy information for ordering the units of the item from one or more sources, an existing inventory level of the item, existing purchase orders of the item, shipment information for receiving the units of the item at the inventory, and returns of the units of the item.8. The one or more non-transitory computer-readable media of claim 4, wherein updating the forecast comprises reducing at least one of: an inbound cost or an outbound cost based at least in part on the at least one of: the labor forecast or the capacity forecast, wherein the inbound cost is associated with a cost of receiving the units of the item at the inventory, and wherein the outbound cost is associated with a cost of the units of the item leaving the inventory.9. The one or more non-transitory computer-readable media of claim 4, wherein changing the at least one of: the labor forecast or the capacity forecast comprises:generating a plurality of changes to the at least one of: the labor forecast or the capacity forecast;determining a plurality of costs corresponding to the plurality of changes;determining a plurality of profitability estimates associated with inventorying the item based at least in part on the plurality of respective costs;selecting a profitability estimate that exceeds a threshold, the profitability estimate selected from the plurality of profitability estimates;determining a change of the plurality of changes corresponding to the profitability estimate that exceeds the threshold; andchanging the at least one of: the labor forecast or the capacity forecast based at least in part on the change of the plurality of changes.10. The one or more non-transitory computer-readable media of claim 4, wherein changing the at least one of: the labor forecast or the capacity forecast comprises allocating a set of the units of item for inventorying at the another inventory.11. The one or more non-transitory computer-readable media of claim 4, wherein monitoring real-time data comprises detecting that a change between the realizations and the simulations of the supply and demand variables exceeds a threshold, and wherein the change exceeding the threshold causes the forecast to be updated.12. A system comprising:one or more processors; andone or more computer-readable media comprising instructions that, when executed with the one or more processors, cause the system to at least:simulate supply and demand associated with an item during a planning horizon;generate a forecast associated with inventorying units of the item in an inventory during the planning horizon by at least using, as variable, the supply and demand, and a labor forecast and a capacity forecast associated with inventorying items in the inventory during the planning the planning horizon, and searching for a labor level and capacity level from the variables according to an optimization parameter;monitor real-time data associated with realizations of the supply and demand during the planning horizon, at least a portion of the real-time data available from a management system configured to manage orders for the units of the item from the inventory, the real-time data monitored based at least in part on a feedback loop that is between the system and the management system and that uses a stateless library to input the real-time data to the system; andupdate the forecast during the planning horizon based at least in part on the real-time data, the updating comprising changing the at least one of: the labor forecast or the capacity forecast, wherein updating the forecast during the planning horizon comprises balancing an allocation of the units of the item to the inventory with an allocation of other units of items to another inventory.13. The system of claim 12, wherein the forecast is further generated based at least in part on simulations of supply and demand associated with an other item to be inventoried in the inventory.14. The system of claim 13, wherein the other item is associated with an other forecast, wherein the forecast and the other forecast are generated based at least in part on a same type of data available from the management system.15. The system of claim 13, wherein the other item is associated with an other forecast, wherein updating the forecast causes an update to the other forecast.16. The system of claim 12, wherein changing the at least one of: the labor forecast or the capacity forecast comprises:generating a plurality of updates to the at least one of: the labor forecast or the capacity forecast;determining a plurality of changes to an other forecast of an other item to be inventoried in the inventory, the plurality of changes corresponding to the plurality of updates;determining a plurality of profitability estimates associated with inventorying the item and the other item based at least in part on the plurality of respective changes and updates;selecting a profitability estimate that exceeds a threshold, the profitability estimate selected from the plurality of profitability estimates;determining an update of the plurality of updates corresponding to the profitability estimate; andupdating the at least one of: the labor forecast or the capacity forecast based at least in part on the update corresponding to the profitability estimate.17. The system of claim 12, wherein the at least a portion of the real-time data is available from the management system based at least in part on using one or more stateless libraries.18. The system of claim 17, wherein the one or more stateless libraries are configured to enable the system to use the at least a portion of the real-time data for updating the forecast without impacting a usage by the management system of the at least a portion of the real-time data for managing the orders of the units of the item.19. The system of claim 12, wherein changing updating the at least one of: the labor forecast or the capacity forecast comprises:re-simulating the supply and demand based at least in part on the real-time data and on different labor constraints or capacity constraints to estimate profitability levels associated with inventorying the item; andselecting a labor constraint or a capacity constraint that maximizes a profitability level.]'"
      ]
     },
     "execution_count": 12,
     "metadata": {},
     "output_type": "execute_result"
    }
   ],
   "source": [
    "def match_claim(result):\n",
    "    claim_pattern = r'<claims id=\"claims\">(.*?)</us-patent-grant>' ##define main body\n",
    "    tags_pattern = '<.*?>' ##define tags\n",
    "    messy_text = '\\(?S&#x26;OP\\)?' ## define messy code\n",
    "    claims = re.search(claim_pattern, result)\n",
    "    if claims == None:\n",
    "        return '[NA]'\n",
    "    claims = claims.group(1)\n",
    "    \n",
    "    claim = ''\n",
    "    claim = re.sub(tags_pattern,'',claims)\n",
    "    claim = re.sub(messy_text,'',claim) ## remove all irrelevant text\n",
    "    return '[' + claim + ']'\n",
    "match_claim(result[1])"
   ]
  },
  {
   "cell_type": "markdown",
   "metadata": {},
   "source": [
    "## 4.9 Abstract"
   ]
  },
  {
   "cell_type": "markdown",
   "metadata": {},
   "source": [
    "Firstly, the scope of abstract should be identified in order to get the Null value easily. Then the content can be searched from abstract. Finally remove the messy tags."
   ]
  },
  {
   "cell_type": "code",
   "execution_count": 13,
   "metadata": {},
   "outputs": [
    {
     "data": {
      "text/plain": [
       "'NA'"
      ]
     },
     "execution_count": 13,
     "metadata": {},
     "output_type": "execute_result"
    }
   ],
   "source": [
    "def match_abstract(result):\n",
    "    abs_pattern = r'<abstract\\sid=\"abstract\">(.*?)</abstract>'\n",
    "    content_pattern = r'<.*?>(.*?)</p>' ## content end with '</p>'\n",
    "    tags_pattern = r'<.*?>'\n",
    "    messy_text = '&#x\\w{0,4}'##match something like '&#x2019', {0-4} means match 0 to 4 characters\n",
    "    \n",
    "    abstract = re.search(abs_pattern, result)\n",
    "    if abstract == None:\n",
    "        return 'NA'\n",
    "    abstract = abstract.group(1)\n",
    "    \n",
    "    content = re.search(content_pattern, abstract) ## get the main body from abstract\n",
    "    content = content.group(1)\n",
    "    \n",
    "    content = re.sub(tags_pattern,'',content)\n",
    "    content = re.sub(messy_text,'',content) ## remove all useless information\n",
    "    return content\n",
    "match_abstract(result[33])"
   ]
  },
  {
   "cell_type": "markdown",
   "metadata": {},
   "source": [
    "# 5. Write all features into file"
   ]
  },
  {
   "cell_type": "markdown",
   "metadata": {},
   "source": [
    "## 5.1 To csv file"
   ]
  },
  {
   "cell_type": "markdown",
   "metadata": {},
   "source": [
    "Python is allowed user transfer dictionary to csv file, all the values in dictionary will be transfered to be a column. And the keys of dictionary will become columns' name. So the for loop here is to store all the values into different list as value. And the name their key."
   ]
  },
  {
   "cell_type": "code",
   "execution_count": 14,
   "metadata": {},
   "outputs": [],
   "source": [
    "grant_id = []\n",
    "title = []\n",
    "kind = []\n",
    "number_of_claims = []\n",
    "inventors = []\n",
    "citations_applicant_count = []\n",
    "citations_examiner_count = []\n",
    "claims_text = []\n",
    "abstract = []\n",
    "\n",
    "##append all features into different lists\n",
    "for i in range(len(result)):\n",
    "    grant_id.append(match_grant_id(result[i]))\n",
    "    \n",
    "    title.append(patent_title(result[i]))\n",
    "    \n",
    "    kind.append(match_kind(result[i]))\n",
    "    \n",
    "    number_of_claims.append(count_num_claims(result[i]))\n",
    "    \n",
    "    inventors.append(match_inventors(result[i]))\n",
    "    \n",
    "    citations_applicant_count.append(count_applicant(result[i]))\n",
    "    \n",
    "    citations_examiner_count.append(count_examiner(result[i]))\n",
    "    \n",
    "    claims_text.append(match_claim(result[i]))\n",
    "    \n",
    "    abstract.append(match_abstract(result[i]))"
   ]
  },
  {
   "cell_type": "code",
   "execution_count": 15,
   "metadata": {},
   "outputs": [],
   "source": [
    "dic = {\"grant_id\" : grant_id, \"patent_title\" : title, \"kind\" : kind, \"number_of_claims\" : number_of_claims, \"inventors\" : inventors, \"citations_applicant_count\" : citations_applicant_count, \"citations_examiner_count\" : citations_examiner_count, \"claims_text\" : claims_text, \"abstract\": abstract}"
   ]
  },
  {
   "cell_type": "code",
   "execution_count": 16,
   "metadata": {},
   "outputs": [
    {
     "data": {
      "text/html": [
       "<div>\n",
       "<style scoped>\n",
       "    .dataframe tbody tr th:only-of-type {\n",
       "        vertical-align: middle;\n",
       "    }\n",
       "\n",
       "    .dataframe tbody tr th {\n",
       "        vertical-align: top;\n",
       "    }\n",
       "\n",
       "    .dataframe thead th {\n",
       "        text-align: right;\n",
       "    }\n",
       "</style>\n",
       "<table border=\"1\" class=\"dataframe\">\n",
       "  <thead>\n",
       "    <tr style=\"text-align: right;\">\n",
       "      <th></th>\n",
       "      <th>grant_id</th>\n",
       "      <th>patent_title</th>\n",
       "      <th>kind</th>\n",
       "      <th>number_of_claims</th>\n",
       "      <th>inventors</th>\n",
       "      <th>citations_applicant_count</th>\n",
       "      <th>citations_examiner_count</th>\n",
       "      <th>claims_text</th>\n",
       "      <th>abstract</th>\n",
       "    </tr>\n",
       "  </thead>\n",
       "  <tbody>\n",
       "    <tr>\n",
       "      <th>0</th>\n",
       "      <td>US10360376</td>\n",
       "      <td>Method for operating a computer unit, and such...</td>\n",
       "      <td>Utility Patent Grant (with a published applica...</td>\n",
       "      <td>11</td>\n",
       "      <td>[Laszlo Marton, Oliver Mihatsch]</td>\n",
       "      <td>7</td>\n",
       "      <td>3</td>\n",
       "      <td>[1. A method for operating a computer unit, th...</td>\n",
       "      <td>A method is supplied for operating a computer ...</td>\n",
       "    </tr>\n",
       "    <tr>\n",
       "      <th>1</th>\n",
       "      <td>US10360522</td>\n",
       "      <td>Updating a forecast based on real-time data as...</td>\n",
       "      <td>Utility Patent Grant (no published application...</td>\n",
       "      <td>19</td>\n",
       "      <td>[Edward Michael Leonard, Robert Howard Sawers,...</td>\n",
       "      <td>0</td>\n",
       "      <td>6</td>\n",
       "      <td>[1. A computer-implemented method, comprising:...</td>\n",
       "      <td>Techniques for generating a forecast associate...</td>\n",
       "    </tr>\n",
       "    <tr>\n",
       "      <th>2</th>\n",
       "      <td>US10358186</td>\n",
       "      <td>Bicycle sprocket and bicycle sprocket assembly</td>\n",
       "      <td>Utility Patent Grant (with a published applica...</td>\n",
       "      <td>34</td>\n",
       "      <td>[Akinobu Sugimoto]</td>\n",
       "      <td>9</td>\n",
       "      <td>37</td>\n",
       "      <td>[1. A bicycle sprocket comprising:a sprocket b...</td>\n",
       "      <td>A bicycle sprocket comprises a sprocket body, ...</td>\n",
       "    </tr>\n",
       "    <tr>\n",
       "      <th>3</th>\n",
       "      <td>USPP030748</td>\n",
       "      <td>Hosta plant named &amp;#x2018;Etched Glass&amp;#x2019;</td>\n",
       "      <td>2001\"</td>\n",
       "      <td>1</td>\n",
       "      <td>[Hans A. Hansen]</td>\n",
       "      <td>0</td>\n",
       "      <td>0</td>\n",
       "      <td>[1. A new and distinct ornamental plant cultiv...</td>\n",
       "      <td>A new and distinct Hosta plant named ;Etched G...</td>\n",
       "    </tr>\n",
       "    <tr>\n",
       "      <th>4</th>\n",
       "      <td>US10357593</td>\n",
       "      <td>Malleable demineralized bone composition and m...</td>\n",
       "      <td>Utility Patent Grant (with a published applica...</td>\n",
       "      <td>11</td>\n",
       "      <td>[Edgar S. Maldonado, Silvia Daniela Gonzales]</td>\n",
       "      <td>52</td>\n",
       "      <td>2</td>\n",
       "      <td>[1. A method of making a malleable demineraliz...</td>\n",
       "      <td>A malleable demineralized bone composition con...</td>\n",
       "    </tr>\n",
       "  </tbody>\n",
       "</table>\n",
       "</div>"
      ],
      "text/plain": [
       "     grant_id                                       patent_title  \\\n",
       "0  US10360376  Method for operating a computer unit, and such...   \n",
       "1  US10360522  Updating a forecast based on real-time data as...   \n",
       "2  US10358186     Bicycle sprocket and bicycle sprocket assembly   \n",
       "3  USPP030748     Hosta plant named &#x2018;Etched Glass&#x2019;   \n",
       "4  US10357593  Malleable demineralized bone composition and m...   \n",
       "\n",
       "                                                kind  number_of_claims  \\\n",
       "0  Utility Patent Grant (with a published applica...                11   \n",
       "1  Utility Patent Grant (no published application...                19   \n",
       "2  Utility Patent Grant (with a published applica...                34   \n",
       "3                                              2001\"                 1   \n",
       "4  Utility Patent Grant (with a published applica...                11   \n",
       "\n",
       "                                           inventors  \\\n",
       "0                   [Laszlo Marton, Oliver Mihatsch]   \n",
       "1  [Edward Michael Leonard, Robert Howard Sawers,...   \n",
       "2                                 [Akinobu Sugimoto]   \n",
       "3                                   [Hans A. Hansen]   \n",
       "4      [Edgar S. Maldonado, Silvia Daniela Gonzales]   \n",
       "\n",
       "   citations_applicant_count  citations_examiner_count  \\\n",
       "0                          7                         3   \n",
       "1                          0                         6   \n",
       "2                          9                        37   \n",
       "3                          0                         0   \n",
       "4                         52                         2   \n",
       "\n",
       "                                         claims_text  \\\n",
       "0  [1. A method for operating a computer unit, th...   \n",
       "1  [1. A computer-implemented method, comprising:...   \n",
       "2  [1. A bicycle sprocket comprising:a sprocket b...   \n",
       "3  [1. A new and distinct ornamental plant cultiv...   \n",
       "4  [1. A method of making a malleable demineraliz...   \n",
       "\n",
       "                                            abstract  \n",
       "0  A method is supplied for operating a computer ...  \n",
       "1  Techniques for generating a forecast associate...  \n",
       "2  A bicycle sprocket comprises a sprocket body, ...  \n",
       "3  A new and distinct Hosta plant named ;Etched G...  \n",
       "4  A malleable demineralized bone composition con...  "
      ]
     },
     "execution_count": 16,
     "metadata": {},
     "output_type": "execute_result"
    }
   ],
   "source": [
    "df = pd.DataFrame(dic)\n",
    "df.to_csv(\"Group023.csv\",index = False) ## 'index = False' avoid writing the row index into file\n",
    "df.head(5)"
   ]
  },
  {
   "cell_type": "markdown",
   "metadata": {},
   "source": [
    "## 5.2 To json file"
   ]
  },
  {
   "cell_type": "markdown",
   "metadata": {},
   "source": [
    "Transferring to json file is similar to csv file. But the outputfile need to be filtered by patient id. So the content of each patent should be gathered into a dictionary. And the grant id is the key of the content dictionary. So the result is a dictionary contains another dictionary. Finally, output the dictionary into a json file(can be added) one by one."
   ]
  },
  {
   "cell_type": "code",
   "execution_count": 17,
   "metadata": {},
   "outputs": [],
   "source": [
    "dict_grant_id = {}\n",
    "dict_content = {}\n",
    "i = 0\n",
    "for i in range(len(grant_id)):\n",
    "    ## values in dict\n",
    "    dict_content[\"patent_title\"] = title[i]\n",
    "    dict_content[\"kind\"] = kind[i]\n",
    "    dict_content[\"number_of_claims\"] = number_of_claims[i]\n",
    "    dict_content[\"inventors\"] = inventors[i]\n",
    "    dict_content[\"citations_applicant_count\"] = citations_applicant_count[i]\n",
    "    dict_content[\"citations_examiner_count\"] = citations_examiner_count[i]\n",
    "    dict_content[\"claims_text\"] = claims_text[i]\n",
    "    dict_content[\"abstract\"] = abstract[i]\n",
    "    \n",
    "    ## identify the key of the dict\n",
    "    dict_grant_id[grant_id[i]] = dict_content\n",
    "    \n",
    "    ## write the patent one by one into a file\n",
    "    with open(\"Group023.json\",'a+') as outputjson:\n",
    "        outputjson.write(str(dict_grant_id))\n",
    "    ## initialize the dictionary after write\n",
    "    dict_grant_id = {}\n",
    "    "
   ]
  },
  {
   "cell_type": "markdown",
   "metadata": {},
   "source": [
    "# 6. Summary\n",
    "This assessment measured the understanding of basic text file processing techniques in the Python programming language. The main outcomes achieved while applying these techniques were:\n",
    "\n",
    "- **Reading and spliting txt file into a list.** By using bulit-in `re.split` and `replace` function. With the helper like *re tutorial*, it was not so hard to preprocess the file.\n",
    "\n",
    "- **Extraction.** Defining function is a clear and user friendly way to parse these patent features. [regex101](https://regex101.com/) is a very useful online tool to check the regular expression. And also it can show which part is the group of regular expression. The `re.search`, `re.findall`and `re.sub` is used frequently in this part to extract the particular text from main file. Then by using basic funtion like `if else` and `loop` to make judgment and appending function.\n",
    "\n",
    "- **Writing text into file.** By using `pd.DateFrame` function, the dictionary can be transferred into a dateframe. And `.to_csv` function is to transfer dateframe to csv file. it is worth noting that the `index` parameter should be set False in order to avoid saving the row index into file."
   ]
  },
  {
   "cell_type": "markdown",
   "metadata": {},
   "source": [
    "# 7. References\n",
    "- The `pandas` Project. (2016a). *pandas 0.19.2 documentation: pandas.DataFrame.to_csv*. Retrieved from http://pandas.pydata.org/pandas-docs/stable/generated/pandas.DataFrame.to_csv.html#pandas.DataFrame.to_csv\n",
    "- W3Schools(2019) *Python RegEx*. Retrieved from https://www.w3schools.com/python/python_regex.asp"
   ]
  }
 ],
 "metadata": {
  "kernelspec": {
   "display_name": "Python 3",
   "language": "python",
   "name": "python3"
  },
  "language_info": {
   "codemirror_mode": {
    "name": "ipython",
    "version": 3
   },
   "file_extension": ".py",
   "mimetype": "text/x-python",
   "name": "python",
   "nbconvert_exporter": "python",
   "pygments_lexer": "ipython3",
   "version": "3.7.3"
  }
 },
 "nbformat": 4,
 "nbformat_minor": 2
}
